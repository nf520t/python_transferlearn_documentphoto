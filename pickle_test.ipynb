{
 "cells": [
  {
   "cell_type": "code",
   "execution_count": 1,
   "metadata": {},
   "outputs": [
    {
     "data": {
      "text/html": [
       "<div>\n",
       "<style scoped>\n",
       "    .dataframe tbody tr th:only-of-type {\n",
       "        vertical-align: middle;\n",
       "    }\n",
       "\n",
       "    .dataframe tbody tr th {\n",
       "        vertical-align: top;\n",
       "    }\n",
       "\n",
       "    .dataframe thead th {\n",
       "        text-align: right;\n",
       "    }\n",
       "</style>\n",
       "<table border=\"1\" class=\"dataframe\">\n",
       "  <thead>\n",
       "    <tr style=\"text-align: right;\">\n",
       "      <th></th>\n",
       "      <th>path</th>\n",
       "      <th>ans</th>\n",
       "    </tr>\n",
       "  </thead>\n",
       "  <tbody>\n",
       "    <tr>\n",
       "      <td>0</td>\n",
       "      <td>C:/Users/Big data/Desktop/pic_data/document\\0 ...</td>\n",
       "      <td>0</td>\n",
       "    </tr>\n",
       "    <tr>\n",
       "      <td>1</td>\n",
       "      <td>C:/Users/Big data/Desktop/pic_data/document\\0.jpg</td>\n",
       "      <td>0</td>\n",
       "    </tr>\n",
       "    <tr>\n",
       "      <td>2</td>\n",
       "      <td>C:/Users/Big data/Desktop/pic_data/document\\00...</td>\n",
       "      <td>0</td>\n",
       "    </tr>\n",
       "    <tr>\n",
       "      <td>3</td>\n",
       "      <td>C:/Users/Big data/Desktop/pic_data/document\\00...</td>\n",
       "      <td>0</td>\n",
       "    </tr>\n",
       "    <tr>\n",
       "      <td>4</td>\n",
       "      <td>C:/Users/Big data/Desktop/pic_data/document\\00...</td>\n",
       "      <td>0</td>\n",
       "    </tr>\n",
       "    <tr>\n",
       "      <td>...</td>\n",
       "      <td>...</td>\n",
       "      <td>...</td>\n",
       "    </tr>\n",
       "    <tr>\n",
       "      <td>1061</td>\n",
       "      <td>C:/Users/Big data/Desktop/pic_data/live\\777 (3...</td>\n",
       "      <td>2</td>\n",
       "    </tr>\n",
       "    <tr>\n",
       "      <td>1062</td>\n",
       "      <td>C:/Users/Big data/Desktop/pic_data/live\\793 (2...</td>\n",
       "      <td>2</td>\n",
       "    </tr>\n",
       "    <tr>\n",
       "      <td>1063</td>\n",
       "      <td>C:/Users/Big data/Desktop/pic_data/live\\795 (2...</td>\n",
       "      <td>2</td>\n",
       "    </tr>\n",
       "    <tr>\n",
       "      <td>1064</td>\n",
       "      <td>C:/Users/Big data/Desktop/pic_data/live\\798.jpg</td>\n",
       "      <td>2</td>\n",
       "    </tr>\n",
       "    <tr>\n",
       "      <td>1065</td>\n",
       "      <td>C:/Users/Big data/Desktop/pic_data/live\\808 (2...</td>\n",
       "      <td>2</td>\n",
       "    </tr>\n",
       "  </tbody>\n",
       "</table>\n",
       "<p>1066 rows × 2 columns</p>\n",
       "</div>"
      ],
      "text/plain": [
       "                                                   path  ans\n",
       "0     C:/Users/Big data/Desktop/pic_data/document\\0 ...    0\n",
       "1     C:/Users/Big data/Desktop/pic_data/document\\0.jpg    0\n",
       "2     C:/Users/Big data/Desktop/pic_data/document\\00...    0\n",
       "3     C:/Users/Big data/Desktop/pic_data/document\\00...    0\n",
       "4     C:/Users/Big data/Desktop/pic_data/document\\00...    0\n",
       "...                                                 ...  ...\n",
       "1061  C:/Users/Big data/Desktop/pic_data/live\\777 (3...    2\n",
       "1062  C:/Users/Big data/Desktop/pic_data/live\\793 (2...    2\n",
       "1063  C:/Users/Big data/Desktop/pic_data/live\\795 (2...    2\n",
       "1064    C:/Users/Big data/Desktop/pic_data/live\\798.jpg    2\n",
       "1065  C:/Users/Big data/Desktop/pic_data/live\\808 (2...    2\n",
       "\n",
       "[1066 rows x 2 columns]"
      ]
     },
     "execution_count": 1,
     "metadata": {},
     "output_type": "execute_result"
    }
   ],
   "source": [
    "import glob\n",
    "import pandas as pd\n",
    "#訓練圖片目錄路徑\n",
    "document = glob.glob(\"C:/Users/Big data/Desktop/pic_data/document/*.jpg\")\n",
    "graduation = glob.glob(\"C:/Users/Big data/Desktop/pic_data/graduation/*.jpg\")\n",
    "live = glob.glob(\"C:/Users/Big data/Desktop/pic_data/live/*.jpg\")\n",
    "data = pd.DataFrame({\n",
    "    \"path\": document+ graduation+ live,\n",
    "    \"ans\": [0] * len(document) + [1] * len(graduation)+ [2] * len(live)\n",
    "})\n",
    "data"
   ]
  },
  {
   "cell_type": "code",
   "execution_count": 2,
   "metadata": {},
   "outputs": [
    {
     "name": "stderr",
     "output_type": "stream",
     "text": [
      "Using TensorFlow backend.\n",
      "C:\\Users\\Big data\\PycharmProjects\\DB103\\venv\\lib\\site-packages\\tensorflow\\python\\framework\\dtypes.py:516: FutureWarning: Passing (type, 1) or '1type' as a synonym of type is deprecated; in a future version of numpy, it will be understood as (type, (1,)) / '(1,)type'.\n",
      "  _np_qint8 = np.dtype([(\"qint8\", np.int8, 1)])\n",
      "C:\\Users\\Big data\\PycharmProjects\\DB103\\venv\\lib\\site-packages\\tensorflow\\python\\framework\\dtypes.py:517: FutureWarning: Passing (type, 1) or '1type' as a synonym of type is deprecated; in a future version of numpy, it will be understood as (type, (1,)) / '(1,)type'.\n",
      "  _np_quint8 = np.dtype([(\"quint8\", np.uint8, 1)])\n",
      "C:\\Users\\Big data\\PycharmProjects\\DB103\\venv\\lib\\site-packages\\tensorflow\\python\\framework\\dtypes.py:518: FutureWarning: Passing (type, 1) or '1type' as a synonym of type is deprecated; in a future version of numpy, it will be understood as (type, (1,)) / '(1,)type'.\n",
      "  _np_qint16 = np.dtype([(\"qint16\", np.int16, 1)])\n",
      "C:\\Users\\Big data\\PycharmProjects\\DB103\\venv\\lib\\site-packages\\tensorflow\\python\\framework\\dtypes.py:519: FutureWarning: Passing (type, 1) or '1type' as a synonym of type is deprecated; in a future version of numpy, it will be understood as (type, (1,)) / '(1,)type'.\n",
      "  _np_quint16 = np.dtype([(\"quint16\", np.uint16, 1)])\n",
      "C:\\Users\\Big data\\PycharmProjects\\DB103\\venv\\lib\\site-packages\\tensorflow\\python\\framework\\dtypes.py:520: FutureWarning: Passing (type, 1) or '1type' as a synonym of type is deprecated; in a future version of numpy, it will be understood as (type, (1,)) / '(1,)type'.\n",
      "  _np_qint32 = np.dtype([(\"qint32\", np.int32, 1)])\n",
      "C:\\Users\\Big data\\PycharmProjects\\DB103\\venv\\lib\\site-packages\\tensorflow\\python\\framework\\dtypes.py:525: FutureWarning: Passing (type, 1) or '1type' as a synonym of type is deprecated; in a future version of numpy, it will be understood as (type, (1,)) / '(1,)type'.\n",
      "  np_resource = np.dtype([(\"resource\", np.ubyte, 1)])\n"
     ]
    },
    {
     "name": "stdout",
     "output_type": "stream",
     "text": [
      "WARNING:tensorflow:From C:\\Users\\Big data\\PycharmProjects\\DB103\\venv\\lib\\site-packages\\keras\\backend\\tensorflow_backend.py:66: The name tf.get_default_graph is deprecated. Please use tf.compat.v1.get_default_graph instead.\n",
      "\n",
      "WARNING:tensorflow:From C:\\Users\\Big data\\PycharmProjects\\DB103\\venv\\lib\\site-packages\\keras\\backend\\tensorflow_backend.py:541: The name tf.placeholder is deprecated. Please use tf.compat.v1.placeholder instead.\n",
      "\n",
      "WARNING:tensorflow:From C:\\Users\\Big data\\PycharmProjects\\DB103\\venv\\lib\\site-packages\\keras\\backend\\tensorflow_backend.py:4432: The name tf.random_uniform is deprecated. Please use tf.random.uniform instead.\n",
      "\n",
      "WARNING:tensorflow:From C:\\Users\\Big data\\PycharmProjects\\DB103\\venv\\lib\\site-packages\\keras\\backend\\tensorflow_backend.py:4267: The name tf.nn.max_pool is deprecated. Please use tf.nn.max_pool2d instead.\n",
      "\n"
     ]
    },
    {
     "name": "stderr",
     "output_type": "stream",
     "text": [
      "C:\\Users\\Big data\\PycharmProjects\\DB103\\venv\\lib\\site-packages\\tensorboard\\compat\\tensorflow_stub\\dtypes.py:541: FutureWarning: Passing (type, 1) or '1type' as a synonym of type is deprecated; in a future version of numpy, it will be understood as (type, (1,)) / '(1,)type'.\n",
      "  _np_qint8 = np.dtype([(\"qint8\", np.int8, 1)])\n",
      "C:\\Users\\Big data\\PycharmProjects\\DB103\\venv\\lib\\site-packages\\tensorboard\\compat\\tensorflow_stub\\dtypes.py:542: FutureWarning: Passing (type, 1) or '1type' as a synonym of type is deprecated; in a future version of numpy, it will be understood as (type, (1,)) / '(1,)type'.\n",
      "  _np_quint8 = np.dtype([(\"quint8\", np.uint8, 1)])\n",
      "C:\\Users\\Big data\\PycharmProjects\\DB103\\venv\\lib\\site-packages\\tensorboard\\compat\\tensorflow_stub\\dtypes.py:543: FutureWarning: Passing (type, 1) or '1type' as a synonym of type is deprecated; in a future version of numpy, it will be understood as (type, (1,)) / '(1,)type'.\n",
      "  _np_qint16 = np.dtype([(\"qint16\", np.int16, 1)])\n",
      "C:\\Users\\Big data\\PycharmProjects\\DB103\\venv\\lib\\site-packages\\tensorboard\\compat\\tensorflow_stub\\dtypes.py:544: FutureWarning: Passing (type, 1) or '1type' as a synonym of type is deprecated; in a future version of numpy, it will be understood as (type, (1,)) / '(1,)type'.\n",
      "  _np_quint16 = np.dtype([(\"quint16\", np.uint16, 1)])\n",
      "C:\\Users\\Big data\\PycharmProjects\\DB103\\venv\\lib\\site-packages\\tensorboard\\compat\\tensorflow_stub\\dtypes.py:545: FutureWarning: Passing (type, 1) or '1type' as a synonym of type is deprecated; in a future version of numpy, it will be understood as (type, (1,)) / '(1,)type'.\n",
      "  _np_qint32 = np.dtype([(\"qint32\", np.int32, 1)])\n",
      "C:\\Users\\Big data\\PycharmProjects\\DB103\\venv\\lib\\site-packages\\tensorboard\\compat\\tensorflow_stub\\dtypes.py:550: FutureWarning: Passing (type, 1) or '1type' as a synonym of type is deprecated; in a future version of numpy, it will be understood as (type, (1,)) / '(1,)type'.\n",
      "  np_resource = np.dtype([(\"resource\", np.ubyte, 1)])\n"
     ]
    },
    {
     "name": "stdout",
     "output_type": "stream",
     "text": [
      "WARNING:tensorflow:From C:\\Users\\Big data\\PycharmProjects\\DB103\\venv\\lib\\site-packages\\keras\\backend\\tensorflow_backend.py:190: The name tf.get_default_session is deprecated. Please use tf.compat.v1.get_default_session instead.\n",
      "\n",
      "WARNING:tensorflow:From C:\\Users\\Big data\\PycharmProjects\\DB103\\venv\\lib\\site-packages\\keras\\backend\\tensorflow_backend.py:197: The name tf.ConfigProto is deprecated. Please use tf.compat.v1.ConfigProto instead.\n",
      "\n",
      "Model: \"vgg16\"\n",
      "_________________________________________________________________\n",
      "Layer (type)                 Output Shape              Param #   \n",
      "=================================================================\n",
      "input_1 (InputLayer)         (None, 224, 224, 3)       0         \n",
      "_________________________________________________________________\n",
      "block1_conv1 (Conv2D)        (None, 224, 224, 64)      1792      \n",
      "_________________________________________________________________\n",
      "block1_conv2 (Conv2D)        (None, 224, 224, 64)      36928     \n",
      "_________________________________________________________________\n",
      "block1_pool (MaxPooling2D)   (None, 112, 112, 64)      0         \n",
      "_________________________________________________________________\n",
      "block2_conv1 (Conv2D)        (None, 112, 112, 128)     73856     \n",
      "_________________________________________________________________\n",
      "block2_conv2 (Conv2D)        (None, 112, 112, 128)     147584    \n",
      "_________________________________________________________________\n",
      "block2_pool (MaxPooling2D)   (None, 56, 56, 128)       0         \n",
      "_________________________________________________________________\n",
      "block3_conv1 (Conv2D)        (None, 56, 56, 256)       295168    \n",
      "_________________________________________________________________\n",
      "block3_conv2 (Conv2D)        (None, 56, 56, 256)       590080    \n",
      "_________________________________________________________________\n",
      "block3_conv3 (Conv2D)        (None, 56, 56, 256)       590080    \n",
      "_________________________________________________________________\n",
      "block3_pool (MaxPooling2D)   (None, 28, 28, 256)       0         \n",
      "_________________________________________________________________\n",
      "block4_conv1 (Conv2D)        (None, 28, 28, 512)       1180160   \n",
      "_________________________________________________________________\n",
      "block4_conv2 (Conv2D)        (None, 28, 28, 512)       2359808   \n",
      "_________________________________________________________________\n",
      "block4_conv3 (Conv2D)        (None, 28, 28, 512)       2359808   \n",
      "_________________________________________________________________\n",
      "block4_pool (MaxPooling2D)   (None, 14, 14, 512)       0         \n",
      "_________________________________________________________________\n",
      "block5_conv1 (Conv2D)        (None, 14, 14, 512)       2359808   \n",
      "_________________________________________________________________\n",
      "block5_conv2 (Conv2D)        (None, 14, 14, 512)       2359808   \n",
      "_________________________________________________________________\n",
      "block5_conv3 (Conv2D)        (None, 14, 14, 512)       2359808   \n",
      "_________________________________________________________________\n",
      "block5_pool (MaxPooling2D)   (None, 7, 7, 512)         0         \n",
      "=================================================================\n",
      "Total params: 14,714,688\n",
      "Trainable params: 14,714,688\n",
      "Non-trainable params: 0\n",
      "_________________________________________________________________\n"
     ]
    }
   ],
   "source": [
    "from keras.applications.vgg16 import VGG16\n",
    "vgg = VGG16(include_top=False, input_shape=(224, 224, 3))\n",
    "vgg.summary()"
   ]
  },
  {
   "cell_type": "code",
   "execution_count": 3,
   "metadata": {},
   "outputs": [
    {
     "name": "stdout",
     "output_type": "stream",
     "text": [
      "WARNING:tensorflow:From C:\\Users\\Big data\\PycharmProjects\\DB103\\venv\\lib\\site-packages\\keras\\backend\\tensorflow_backend.py:2041: The name tf.nn.fused_batch_norm is deprecated. Please use tf.compat.v1.nn.fused_batch_norm instead.\n",
      "\n",
      "WARNING:tensorflow:From C:\\Users\\Big data\\PycharmProjects\\DB103\\venv\\lib\\site-packages\\keras\\backend\\tensorflow_backend.py:3733: calling dropout (from tensorflow.python.ops.nn_ops) with keep_prob is deprecated and will be removed in a future version.\n",
      "Instructions for updating:\n",
      "Please use `rate` instead of `keep_prob`. Rate should be set to `rate = 1 - keep_prob`.\n",
      "Model: \"model_1\"\n",
      "_________________________________________________________________\n",
      "Layer (type)                 Output Shape              Param #   \n",
      "=================================================================\n",
      "input_1 (InputLayer)         (None, 224, 224, 3)       0         \n",
      "_________________________________________________________________\n",
      "block1_conv1 (Conv2D)        (None, 224, 224, 64)      1792      \n",
      "_________________________________________________________________\n",
      "block1_conv2 (Conv2D)        (None, 224, 224, 64)      36928     \n",
      "_________________________________________________________________\n",
      "block1_pool (MaxPooling2D)   (None, 112, 112, 64)      0         \n",
      "_________________________________________________________________\n",
      "block2_conv1 (Conv2D)        (None, 112, 112, 128)     73856     \n",
      "_________________________________________________________________\n",
      "block2_conv2 (Conv2D)        (None, 112, 112, 128)     147584    \n",
      "_________________________________________________________________\n",
      "block2_pool (MaxPooling2D)   (None, 56, 56, 128)       0         \n",
      "_________________________________________________________________\n",
      "block3_conv1 (Conv2D)        (None, 56, 56, 256)       295168    \n",
      "_________________________________________________________________\n",
      "block3_conv2 (Conv2D)        (None, 56, 56, 256)       590080    \n",
      "_________________________________________________________________\n",
      "block3_conv3 (Conv2D)        (None, 56, 56, 256)       590080    \n",
      "_________________________________________________________________\n",
      "block3_pool (MaxPooling2D)   (None, 28, 28, 256)       0         \n",
      "_________________________________________________________________\n",
      "block4_conv1 (Conv2D)        (None, 28, 28, 512)       1180160   \n",
      "_________________________________________________________________\n",
      "block4_conv2 (Conv2D)        (None, 28, 28, 512)       2359808   \n",
      "_________________________________________________________________\n",
      "block4_conv3 (Conv2D)        (None, 28, 28, 512)       2359808   \n",
      "_________________________________________________________________\n",
      "block4_pool (MaxPooling2D)   (None, 14, 14, 512)       0         \n",
      "_________________________________________________________________\n",
      "block5_conv1 (Conv2D)        (None, 14, 14, 512)       2359808   \n",
      "_________________________________________________________________\n",
      "block5_conv2 (Conv2D)        (None, 14, 14, 512)       2359808   \n",
      "_________________________________________________________________\n",
      "block5_conv3 (Conv2D)        (None, 14, 14, 512)       2359808   \n",
      "_________________________________________________________________\n",
      "block5_pool (MaxPooling2D)   (None, 7, 7, 512)         0         \n",
      "_________________________________________________________________\n",
      "batch_normalization_1 (Batch (None, 7, 7, 512)         2048      \n",
      "_________________________________________________________________\n",
      "flatten_1 (Flatten)          (None, 25088)             0         \n",
      "_________________________________________________________________\n",
      "dense_1 (Dense)              (None, 2048)              51382272  \n",
      "_________________________________________________________________\n",
      "dropout_1 (Dropout)          (None, 2048)              0         \n",
      "_________________________________________________________________\n",
      "dense_2 (Dense)              (None, 256)               524544    \n",
      "_________________________________________________________________\n",
      "dropout_2 (Dropout)          (None, 256)               0         \n",
      "_________________________________________________________________\n",
      "dense_3 (Dense)              (None, 3)                 771       \n",
      "=================================================================\n",
      "Total params: 66,624,323\n",
      "Trainable params: 51,908,611\n",
      "Non-trainable params: 14,715,712\n",
      "_________________________________________________________________\n"
     ]
    }
   ],
   "source": [
    "from keras.layers import Flatten, Dense, Dropout\n",
    "from keras.layers import BatchNormalization\n",
    "from keras.models import Model\n",
    "# Dense(256, activation=\"relu\") -> 函式(e.g. return print)\n",
    "# tensor = func(tensor)\n",
    "for l in vgg.layers:\n",
    "    l.trainable = False\n",
    "# 1024:trainable 1024:non-trainable\n",
    "x = BatchNormalization()(vgg.output)\n",
    "x = Flatten()(x)\n",
    "x = Dense(2048, activation=\"relu\")(x)\n",
    "x = Dropout(0.25)(x)\n",
    "x = Dense(256, activation=\"relu\")(x)\n",
    "x = Dropout(0.25)(x)\n",
    "x = Dense(3, activation=\"softmax\")(x)\n",
    "# Model(inputs=tensor, outputs=tensor)\n",
    "cnn = Model(inputs=vgg.input, outputs=x)\n",
    "cnn.summary()"
   ]
  },
  {
   "cell_type": "code",
   "execution_count": 4,
   "metadata": {},
   "outputs": [
    {
     "name": "stdout",
     "output_type": "stream",
     "text": [
      "WARNING:tensorflow:From C:\\Users\\Big data\\PycharmProjects\\DB103\\venv\\lib\\site-packages\\keras\\optimizers.py:793: The name tf.train.Optimizer is deprecated. Please use tf.compat.v1.train.Optimizer instead.\n",
      "\n"
     ]
    }
   ],
   "source": [
    "# trainable一定要在compile前就設定\n",
    "cnn.compile(loss=\"categorical_crossentropy\",\n",
    "            optimizer=\"adam\",\n",
    "            metrics=[\"accuracy\"])"
   ]
  },
  {
   "cell_type": "code",
   "execution_count": 5,
   "metadata": {},
   "outputs": [],
   "source": [
    "from sklearn.model_selection import train_test_split\n",
    "# !!! 進入訓練階段以後, list(X), dataframe(X) np.array(O)\n",
    "import numpy as np\n",
    "from keras.utils.np_utils import to_categorical\n",
    "x = np.array(data[\"path\"])\n",
    "y = np.array(data[\"ans\"])\n",
    "y_cat = to_categorical(y)\n",
    "x_train, x_test, y_train, y_test = train_test_split(x, \n",
    "                                                    y_cat, \n",
    "                                                    test_size=0.1)"
   ]
  },
  {
   "cell_type": "code",
   "execution_count": 6,
   "metadata": {},
   "outputs": [
    {
     "data": {
      "text/plain": [
       "array([[[ 151.061     ,  138.22101   ,  131.32      ],\n",
       "        [ 151.061     ,  138.22101   ,  131.32      ],\n",
       "        [ 151.061     ,  138.22101   ,  131.32      ],\n",
       "        ...,\n",
       "        [ 151.061     ,  138.22101   ,  131.32      ],\n",
       "        [ 151.061     ,  138.22101   ,  131.32      ],\n",
       "        [ 151.061     ,  138.22101   ,  131.32      ]],\n",
       "\n",
       "       [[ 151.061     ,  138.22101   ,  131.32      ],\n",
       "        [ 151.061     ,  138.22101   ,  131.32      ],\n",
       "        [ 151.061     ,  138.22101   ,  131.32      ],\n",
       "        ...,\n",
       "        [ 151.061     ,  138.22101   ,  131.32      ],\n",
       "        [ 151.061     ,  138.22101   ,  131.32      ],\n",
       "        [ 151.061     ,  138.22101   ,  131.32      ]],\n",
       "\n",
       "       [[ 151.061     ,  138.22101   ,  131.32      ],\n",
       "        [ 151.061     ,  138.22101   ,  131.32      ],\n",
       "        [ 151.061     ,  138.22101   ,  131.32      ],\n",
       "        ...,\n",
       "        [ 151.061     ,  138.22101   ,  131.32      ],\n",
       "        [ 151.061     ,  138.22101   ,  131.32      ],\n",
       "        [ 151.061     ,  138.22101   ,  131.32      ]],\n",
       "\n",
       "       ...,\n",
       "\n",
       "       [[ 151.061     ,  136.22101   ,  131.32      ],\n",
       "        [ -76.939     ,  -95.779     ,  -97.68      ],\n",
       "        [ -63.939003  ,  -84.779     ,  -84.68      ],\n",
       "        ...,\n",
       "        [ -50.939003  ,  -65.779     ,  -66.68      ],\n",
       "        [ 149.061     ,  135.22101   ,  130.32      ],\n",
       "        [ 151.061     ,  138.22101   ,  131.32      ]],\n",
       "\n",
       "       [[ 111.061     ,   95.221     ,   90.32      ],\n",
       "        [ -74.939     ,  -91.779     ,  -93.68      ],\n",
       "        [ -69.939     ,  -89.779     ,  -89.68      ],\n",
       "        ...,\n",
       "        [ -86.939     , -100.779     , -103.68      ],\n",
       "        [ 150.061     ,  136.22101   ,  131.32      ],\n",
       "        [ 150.061     ,  137.22101   ,  130.32      ]],\n",
       "\n",
       "       [[  16.060997  ,    0.22100067,   -4.6800003 ],\n",
       "        [ -90.939     , -107.779     , -109.68      ],\n",
       "        [ -87.939     , -104.779     , -105.68      ],\n",
       "        ...,\n",
       "        [ -77.939     ,  -91.779     ,  -96.68      ],\n",
       "        [ 151.061     ,  137.22101   ,  131.32      ],\n",
       "        [ 151.061     ,  138.22101   ,  131.32      ]]], dtype=float32)"
      ]
     },
     "execution_count": 6,
     "metadata": {},
     "output_type": "execute_result"
    }
   ],
   "source": [
    "# Pillow(PIL)\n",
    "# 處理一張照片給你看\n",
    "from keras.preprocessing.image import load_img\n",
    "# 一定使用那個模型的preprocess\n",
    "from keras.applications.vgg16 import preprocess_input\n",
    "img = load_img(x_train[0], target_size=(224, 224)).convert(\"RGB\")\n",
    "img_np = np.array(img)\n",
    "preprocess_input(img_np)"
   ]
  },
  {
   "cell_type": "code",
   "execution_count": 7,
   "metadata": {},
   "outputs": [],
   "source": [
    "# x:圖片, y:答案, batch:取幾個\n",
    "# 回傳 (原始圖片[batch], 處理圖片[batch], 答案[batch])\n",
    "def get_data(x, y, batch):\n",
    "    idx = np.random.randint(0, x.shape[0], batch)\n",
    "    # 原本未處理的圖片\n",
    "    oriimgs = []\n",
    "    # Preprocess過後的圖片\n",
    "    preimgs = []\n",
    "    for p in x[idx]:\n",
    "        img = load_img(p, target_size=(224, 224)).convert(\"RGB\")\n",
    "        img_np = np.array(img)\n",
    "        oriimgs.append(img_np)\n",
    "        img_pre = preprocess_input(img_np) \n",
    "        preimgs.append(img_pre)\n",
    "\n",
    "    oriimgs = np.array(oriimgs)\n",
    "    preimgs = np.array(preimgs)\n",
    "    ans = y[idx]\n",
    "    return (oriimgs, preimgs, ans)"
   ]
  },
  {
   "cell_type": "code",
   "execution_count": 8,
   "metadata": {},
   "outputs": [
    {
     "name": "stdout",
     "output_type": "stream",
     "text": [
      "次數: 1\n",
      "WARNING:tensorflow:From C:\\Users\\Big data\\PycharmProjects\\DB103\\venv\\lib\\site-packages\\tensorflow\\python\\ops\\math_grad.py:1250: add_dispatch_support.<locals>.wrapper (from tensorflow.python.ops.array_ops) is deprecated and will be removed in a future version.\n",
      "Instructions for updating:\n",
      "Use tf.where in 2.0, which has the same broadcast rule as np.where\n",
      "[Train]: [1.7191544, 0.2875]\n",
      "[Validate]: [4.3834257, 0.65]\n",
      "------------------------------\n",
      "次數: 2\n",
      "[Train]: [3.4937394, 0.6875]\n",
      "[Validate]: [8.38136, 0.45]\n",
      "------------------------------\n",
      "次數: 3\n",
      "[Train]: [7.999868, 0.4]\n",
      "[Validate]: [1.0593588, 0.9]\n",
      "------------------------------\n",
      "次數: 4\n",
      "[Train]: [3.4817162, 0.7]\n",
      "[Validate]: [0.7833748, 0.9]\n",
      "------------------------------\n",
      "次數: 5\n",
      "[Train]: [1.2477381, 0.8625]\n",
      "[Validate]: [0.7007287, 0.85]\n",
      "------------------------------\n",
      "次數: 6\n",
      "[Train]: [1.1578121, 0.85]\n",
      "[Validate]: [2.095607, 0.7]\n",
      "------------------------------\n",
      "次數: 7\n",
      "[Train]: [3.1096196, 0.675]\n",
      "[Validate]: [0.8966092, 0.85]\n",
      "------------------------------\n",
      "次數: 8\n",
      "[Train]: [0.88623315, 0.9]\n",
      "[Validate]: [1.9299122, 0.85]\n",
      "------------------------------\n",
      "次數: 9\n",
      "[Train]: [0.77542764, 0.925]\n",
      "[Validate]: [3.573983, 0.7]\n",
      "------------------------------\n",
      "次數: 10\n",
      "[Train]: [1.5987384, 0.825]\n",
      "[Validate]: [0.39853358, 0.85]\n",
      "------------------------------\n"
     ]
    }
   ],
   "source": [
    "# 訓練: train_on_batch\n",
    "# 驗證: test_on_batch\n",
    "for i in range(10):\n",
    "    print(\"次數:\", i + 1)\n",
    "    batch = 80\n",
    "    train = get_data(x_train, y_train, batch)\n",
    "    train_result = cnn.train_on_batch(train[1], train[2])\n",
    "    print(\"[Train]:\", train_result)\n",
    "    # 如果可以把驗證的圖片設多一點\n",
    "    test_batch = 20\n",
    "    test = get_data(x_test, y_test, test_batch)\n",
    "    test_result = cnn.test_on_batch(test[1], test[2])\n",
    "    print(\"[Validate]:\", test_result)\n",
    "    print(\"-\" * 30)"
   ]
  },
  {
   "cell_type": "code",
   "execution_count": 9,
   "metadata": {},
   "outputs": [
    {
     "data": {
      "text/plain": [
       "array([[1.00000000e+00, 1.35467274e-27, 3.68190369e-20],\n",
       "       [1.00000000e+00, 8.18778836e-19, 2.49026998e-16],\n",
       "       [0.00000000e+00, 0.00000000e+00, 1.00000000e+00],\n",
       "       [1.00000000e+00, 3.19829315e-29, 3.67686500e-20],\n",
       "       [1.00000000e+00, 8.18778836e-19, 2.49026998e-16],\n",
       "       [8.94608140e-01, 2.21377164e-07, 1.05391651e-01],\n",
       "       [1.00000000e+00, 5.40381276e-27, 9.01387458e-22],\n",
       "       [1.00000000e+00, 6.96230295e-29, 3.73256127e-19],\n",
       "       [3.95049341e-02, 1.89153452e-14, 9.60495114e-01],\n",
       "       [1.00000000e+00, 3.33503541e-37, 3.61014120e-26],\n",
       "       [0.00000000e+00, 1.00000000e+00, 0.00000000e+00],\n",
       "       [6.60215795e-01, 3.39784175e-01, 1.34564160e-14],\n",
       "       [1.00000000e+00, 3.34505589e-26, 1.04804247e-16],\n",
       "       [1.00000000e+00, 8.18778836e-19, 2.49026998e-16],\n",
       "       [6.65670232e-05, 9.54189181e-01, 4.57443297e-02],\n",
       "       [1.00000000e+00, 1.74948738e-29, 1.34340739e-20],\n",
       "       [9.89386082e-01, 8.83070097e-05, 1.05255079e-02],\n",
       "       [8.12633349e-19, 1.00000000e+00, 2.49570278e-29],\n",
       "       [1.25241635e-30, 0.00000000e+00, 1.00000000e+00],\n",
       "       [2.80098835e-22, 1.00000000e+00, 5.76377435e-19]], dtype=float32)"
      ]
     },
     "execution_count": 9,
     "metadata": {},
     "output_type": "execute_result"
    }
   ],
   "source": [
    "# 秀一下問題給你看\n",
    "# 問題1: 怎麼全部同一個預測\n",
    "# 問題2: 機率不該看到1 & 0\n",
    "cnn.predict(test[1])"
   ]
  },
  {
   "cell_type": "code",
   "execution_count": 10,
   "metadata": {},
   "outputs": [
    {
     "name": "stdout",
     "output_type": "stream",
     "text": [
      "50/50 [==============================] - 5s 95ms/step\n"
     ]
    },
    {
     "data": {
      "text/plain": [
       "[2.381800708770752, 0.7999999928474426]"
      ]
     },
     "execution_count": 10,
     "metadata": {},
     "output_type": "execute_result"
    }
   ],
   "source": [
    "final_batch = 50\n",
    "final = get_data(x_test, y_test, final_batch)\n",
    "pre = cnn.predict(final[1])\n",
    "cnn.evaluate(final[1], final[2])"
   ]
  },
  {
   "cell_type": "code",
   "execution_count": 11,
   "metadata": {},
   "outputs": [
    {
     "data": {
      "image/png": "[encoded data removed]",
      "text/plain": [
       "<Figure size 1008x576 with 10 Axes>"
      ]
     },
     "metadata": {
      "needs_background": "light"
     },
     "output_type": "display_data"
    }
   ],
   "source": [
    "import matplotlib.pyplot as plt\n",
    "%matplotlib inline\n",
    "# Model沒有predict_classes\n",
    "# 所以我們要用argmax() 取得最大值的索引\n",
    "# pre.argmax(axis=1)\n",
    "idx = np.nonzero(pre.argmax(axis=1) != final[2].argmax(axis=1))[0]\n",
    "# 預測錯誤的圖片\n",
    "false_img = final[0][idx]\n",
    "# 預測錯誤圖片的正確答案\n",
    "false_answer = final[2].argmax(axis=1)[idx]\n",
    "# 預測錯誤圖片的預測標籤\n",
    "false_pre = pre.argmax(axis=1)[idx]\n",
    "\n",
    "trans = [\"document\", \"graduation\", \"live\"]\n",
    "width = 10\n",
    "height = len(false_img) // width + 1\n",
    "plt.figure(figsize=(14, 8))\n",
    "for i, img in enumerate(false_img):\n",
    "    plt.subplot(height, width, i+1)\n",
    "    t = \"[O]:\" + trans[false_answer[i]] + \"\\n[P]:\" + trans[false_pre[i]]\n",
    "    plt.title(t)\n",
    "    plt.axis(\"off\")\n",
    "    plt.imshow(img)\n"
   ]
  },
  {
   "cell_type": "code",
   "execution_count": 12,
   "metadata": {},
   "outputs": [],
   "source": [
    "import pickle #pickle模組\n",
    "\n",
    "#儲存Model(注:save資料夾要預先建立，否則會報錯)\n",
    "with open('C:/Users/Big data/Desktop/pic_data/model/cnn.pickle', 'wb') as f:\n",
    "    pickle.dump(cnn, f)"
   ]
  },
  {
   "cell_type": "code",
   "execution_count": 28,
   "metadata": {},
   "outputs": [
    {
     "data": {
      "text/plain": [
       "array([[1.6411398e-02, 9.8358858e-01, 4.0142170e-10]], dtype=float32)"
      ]
     },
     "execution_count": 28,
     "metadata": {},
     "output_type": "execute_result"
    }
   ],
   "source": [
    "#輸入圖片目錄路徑\n",
    "TEST = glob.glob(\"C:/Users/Big data/Desktop/pic_data/test/*.jpg\")\n",
    "inimg = load_img(TEST[0], target_size=(224, 224)).convert(\"RGB\")\n",
    "img_np2 = np.array(inimg)\n",
    "img_pre2 = preprocess_input(img_np2)\n",
    "pre2imgs = []\n",
    "pre2imgs.append(img_pre2)\n",
    "pre2imgs = np.array(pre2imgs)\n",
    "pre2imgs\n",
    "\n",
    "pre = cnn.predict(pre2imgs)\n",
    "pre"
   ]
  },
  {
   "cell_type": "code",
   "execution_count": 24,
   "metadata": {},
   "outputs": [],
   "source": [
    "#讀取Model\n",
    "with open('C:/Users/Big data/Desktop/pic_data/model/cnn.pickle', 'rb') as f:\n",
    "    cnn2 = pickle.load(f)\n",
    "    "
   ]
  },
  {
   "cell_type": "code",
   "execution_count": 27,
   "metadata": {},
   "outputs": [
    {
     "data": {
      "text/plain": [
       "array([[1.6411398e-02, 9.8358858e-01, 4.0142170e-10]], dtype=float32)"
      ]
     },
     "execution_count": 27,
     "metadata": {},
     "output_type": "execute_result"
    }
   ],
   "source": [
    "Finally = cnn2.predict(pre2imgs)\n",
    "Finally"
   ]
  },
  {
   "cell_type": "code",
   "execution_count": null,
   "metadata": {},
   "outputs": [],
   "source": []
  }
 ],
 "metadata": {
  "kernelspec": {
   "display_name": "Python 3",
   "language": "python",
   "name": "python3"
  },
  "language_info": {
   "codemirror_mode": {
    "name": "ipython",
    "version": 3
   },
   "file_extension": ".py",
   "mimetype": "text/x-python",
   "name": "python",
   "nbconvert_exporter": "python",
   "pygments_lexer": "ipython3",
   "version": "3.7.0"
  }
 },
 "nbformat": 4,
 "nbformat_minor": 2
}
