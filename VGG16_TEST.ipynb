{
 "cells": [
  {
   "cell_type": "code",
   "execution_count": 3,
   "metadata": {},
   "outputs": [
    {
     "name": "stdout",
     "output_type": "stream",
     "text": [
      "(1, 224, 224, 3)\n"
     ]
    }
   ],
   "source": [
    "from keras.applications.vgg16 import VGG16, preprocess_input, decode_predictions\n",
    "import pickle\n",
    "from keras.preprocessing.image import load_img, img_to_array\n",
    "import numpy as np\n",
    "import glob\n",
    "\n",
    "TEST = glob.glob(\"C:/Users/Big data/Desktop/pic_data/test/*.jpg\")\n",
    "image = load_img(TEST[0], target_size=(224, 224))\n",
    "image_data = img_to_array(image)\n",
    "\n",
    "# reshape it into the specific format\n",
    "image_data = image_data.reshape((1,) + image_data.shape)\n",
    "print(image_data.shape)\n",
    "\n",
    "# prepare the image data for VGG\n",
    "image_data = preprocess_input(image_data)"
   ]
  },
  {
   "cell_type": "code",
   "execution_count": 11,
   "metadata": {},
   "outputs": [
    {
     "name": "stderr",
     "output_type": "stream",
     "text": [
      "C:\\Users\\Big data\\PycharmProjects\\DB103\\venv\\lib\\site-packages\\keras\\engine\\saving.py:310: UserWarning: No training configuration found in save file: the model was *not* compiled. Compile it manually.\n",
      "  warnings.warn('No training configuration found in save file: '\n"
     ]
    },
    {
     "name": "stdout",
     "output_type": "stream",
     "text": [
      "[[('n02123045', 'tabby', 0.24951228), ('n02123159', 'tiger_cat', 0.17435668), ('n02124075', 'Egyptian_cat', 0.072948016)]]\n",
      "tabby\n"
     ]
    }
   ],
   "source": [
    "#讀取Model(pickle儲存路徑)\n",
    "with open('C:/Users/Big data/Desktop/pic_data/model/cnn1000.pickle', 'rb') as f:\n",
    "    cnn1000 = pickle.load(f) \n",
    "\n",
    "prediction = cnn1000.predict(image_data)\n",
    "results = decode_predictions(prediction, top=3)\n",
    "print(results)\n",
    "print(results[0][0][1])"
   ]
  },
  {
   "cell_type": "code",
   "execution_count": null,
   "metadata": {},
   "outputs": [],
   "source": []
  }
 ],
 "metadata": {
  "kernelspec": {
   "display_name": "Python 3",
   "language": "python",
   "name": "python3"
  },
  "language_info": {
   "codemirror_mode": {
    "name": "ipython",
    "version": 3
   },
   "file_extension": ".py",
   "mimetype": "text/x-python",
   "name": "python",
   "nbconvert_exporter": "python",
   "pygments_lexer": "ipython3",
   "version": "3.7.0"
  }
 },
 "nbformat": 4,
 "nbformat_minor": 2
}
