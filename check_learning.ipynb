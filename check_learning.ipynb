{
 "cells": [
  {
   "cell_type": "code",
   "execution_count": null,
   "metadata": {},
   "outputs": [
    {
     "data": {
      "text/html": [
       "<div>\n",
       "<style scoped>\n",
       "    .dataframe tbody tr th:only-of-type {\n",
       "        vertical-align: middle;\n",
       "    }\n",
       "\n",
       "    .dataframe tbody tr th {\n",
       "        vertical-align: top;\n",
       "    }\n",
       "\n",
       "    .dataframe thead th {\n",
       "        text-align: right;\n",
       "    }\n",
       "</style>\n",
       "<table border=\"1\" class=\"dataframe\">\n",
       "  <thead>\n",
       "    <tr style=\"text-align: right;\">\n",
       "      <th></th>\n",
       "      <th>path</th>\n",
       "      <th>ans</th>\n",
       "    </tr>\n",
       "  </thead>\n",
       "  <tbody>\n",
       "    <tr>\n",
       "      <td>0</td>\n",
       "      <td>C:/Users/Big data/Desktop/pic_data/document\\0 ...</td>\n",
       "      <td>0</td>\n",
       "    </tr>\n",
       "    <tr>\n",
       "      <td>1</td>\n",
       "      <td>C:/Users/Big data/Desktop/pic_data/document\\0 ...</td>\n",
       "      <td>0</td>\n",
       "    </tr>\n",
       "    <tr>\n",
       "      <td>2</td>\n",
       "      <td>C:/Users/Big data/Desktop/pic_data/document\\0.jpg</td>\n",
       "      <td>0</td>\n",
       "    </tr>\n",
       "    <tr>\n",
       "      <td>3</td>\n",
       "      <td>C:/Users/Big data/Desktop/pic_data/document\\00...</td>\n",
       "      <td>0</td>\n",
       "    </tr>\n",
       "    <tr>\n",
       "      <td>4</td>\n",
       "      <td>C:/Users/Big data/Desktop/pic_data/document\\00...</td>\n",
       "      <td>0</td>\n",
       "    </tr>\n",
       "    <tr>\n",
       "      <td>...</td>\n",
       "      <td>...</td>\n",
       "      <td>...</td>\n",
       "    </tr>\n",
       "    <tr>\n",
       "      <td>794</td>\n",
       "      <td>C:/Users/Big data/Desktop/pic_data/live\\782 (2...</td>\n",
       "      <td>2</td>\n",
       "    </tr>\n",
       "    <tr>\n",
       "      <td>795</td>\n",
       "      <td>C:/Users/Big data/Desktop/pic_data/live\\793 (2...</td>\n",
       "      <td>2</td>\n",
       "    </tr>\n",
       "    <tr>\n",
       "      <td>796</td>\n",
       "      <td>C:/Users/Big data/Desktop/pic_data/live\\795 (2...</td>\n",
       "      <td>2</td>\n",
       "    </tr>\n",
       "    <tr>\n",
       "      <td>797</td>\n",
       "      <td>C:/Users/Big data/Desktop/pic_data/live\\798.jpg</td>\n",
       "      <td>2</td>\n",
       "    </tr>\n",
       "    <tr>\n",
       "      <td>798</td>\n",
       "      <td>C:/Users/Big data/Desktop/pic_data/live\\808 (2...</td>\n",
       "      <td>2</td>\n",
       "    </tr>\n",
       "  </tbody>\n",
       "</table>\n",
       "<p>799 rows × 2 columns</p>\n",
       "</div>"
      ],
      "text/plain": [
       "                                                  path  ans\n",
       "0    C:/Users/Big data/Desktop/pic_data/document\\0 ...    0\n",
       "1    C:/Users/Big data/Desktop/pic_data/document\\0 ...    0\n",
       "2    C:/Users/Big data/Desktop/pic_data/document\\0.jpg    0\n",
       "3    C:/Users/Big data/Desktop/pic_data/document\\00...    0\n",
       "4    C:/Users/Big data/Desktop/pic_data/document\\00...    0\n",
       "..                                                 ...  ...\n",
       "794  C:/Users/Big data/Desktop/pic_data/live\\782 (2...    2\n",
       "795  C:/Users/Big data/Desktop/pic_data/live\\793 (2...    2\n",
       "796  C:/Users/Big data/Desktop/pic_data/live\\795 (2...    2\n",
       "797    C:/Users/Big data/Desktop/pic_data/live\\798.jpg    2\n",
       "798  C:/Users/Big data/Desktop/pic_data/live\\808 (2...    2\n",
       "\n",
       "[799 rows x 2 columns]"
      ]
     },
     "execution_count": 12,
     "metadata": {},
     "output_type": "execute_result"
    }
   ],
   "source": [
    "import glob\n",
    "import pandas as pd\n",
    "#訓練圖片目錄路徑\n",
    "document = glob.glob(\"C:/Users/Big data/Desktop/pic_data/document/*.jpg\")\n",
    "graduation = glob.glob(\"C:/Users/Big data/Desktop/pic_data/graduation/*.jpg\")\n",
    "live = glob.glob(\"C:/Users/Big data/Desktop/pic_data/live/*.jpg\")\n",
    "data = pd.DataFrame({\n",
    "    \"path\": document+ graduation+ live,\n",
    "    \"ans\": [0] * len(document) + [1] * len(graduation)+ [2] * len(live)\n",
    "})\n",
    "data"
   ]
  },
  {
   "cell_type": "code",
   "execution_count": 14,
   "metadata": {},
   "outputs": [
    {
     "name": "stdout",
     "output_type": "stream",
     "text": [
      "Model: \"vgg16\"\n",
      "_________________________________________________________________\n",
      "Layer (type)                 Output Shape              Param #   \n",
      "=================================================================\n",
      "input_3 (InputLayer)         (None, 224, 224, 3)       0         \n",
      "_________________________________________________________________\n",
      "block1_conv1 (Conv2D)        (None, 224, 224, 64)      1792      \n",
      "_________________________________________________________________\n",
      "block1_conv2 (Conv2D)        (None, 224, 224, 64)      36928     \n",
      "_________________________________________________________________\n",
      "block1_pool (MaxPooling2D)   (None, 112, 112, 64)      0         \n",
      "_________________________________________________________________\n",
      "block2_conv1 (Conv2D)        (None, 112, 112, 128)     73856     \n",
      "_________________________________________________________________\n",
      "block2_conv2 (Conv2D)        (None, 112, 112, 128)     147584    \n",
      "_________________________________________________________________\n",
      "block2_pool (MaxPooling2D)   (None, 56, 56, 128)       0         \n",
      "_________________________________________________________________\n",
      "block3_conv1 (Conv2D)        (None, 56, 56, 256)       295168    \n",
      "_________________________________________________________________\n",
      "block3_conv2 (Conv2D)        (None, 56, 56, 256)       590080    \n",
      "_________________________________________________________________\n",
      "block3_conv3 (Conv2D)        (None, 56, 56, 256)       590080    \n",
      "_________________________________________________________________\n",
      "block3_pool (MaxPooling2D)   (None, 28, 28, 256)       0         \n",
      "_________________________________________________________________\n",
      "block4_conv1 (Conv2D)        (None, 28, 28, 512)       1180160   \n",
      "_________________________________________________________________\n",
      "block4_conv2 (Conv2D)        (None, 28, 28, 512)       2359808   \n",
      "_________________________________________________________________\n",
      "block4_conv3 (Conv2D)        (None, 28, 28, 512)       2359808   \n",
      "_________________________________________________________________\n",
      "block4_pool (MaxPooling2D)   (None, 14, 14, 512)       0         \n",
      "_________________________________________________________________\n",
      "block5_conv1 (Conv2D)        (None, 14, 14, 512)       2359808   \n",
      "_________________________________________________________________\n",
      "block5_conv2 (Conv2D)        (None, 14, 14, 512)       2359808   \n",
      "_________________________________________________________________\n",
      "block5_conv3 (Conv2D)        (None, 14, 14, 512)       2359808   \n",
      "_________________________________________________________________\n",
      "block5_pool (MaxPooling2D)   (None, 7, 7, 512)         0         \n",
      "=================================================================\n",
      "Total params: 14,714,688\n",
      "Trainable params: 14,714,688\n",
      "Non-trainable params: 0\n",
      "_________________________________________________________________\n"
     ]
    }
   ],
   "source": [
    "from keras.applications.vgg16 import VGG16\n",
    "vgg = VGG16(include_top=False, input_shape=(224, 224, 3))\n",
    "vgg.summary()"
   ]
  },
  {
   "cell_type": "code",
   "execution_count": 15,
   "metadata": {},
   "outputs": [
    {
     "name": "stdout",
     "output_type": "stream",
     "text": [
      "Model: \"model_2\"\n",
      "_________________________________________________________________\n",
      "Layer (type)                 Output Shape              Param #   \n",
      "=================================================================\n",
      "input_3 (InputLayer)         (None, 224, 224, 3)       0         \n",
      "_________________________________________________________________\n",
      "block1_conv1 (Conv2D)        (None, 224, 224, 64)      1792      \n",
      "_________________________________________________________________\n",
      "block1_conv2 (Conv2D)        (None, 224, 224, 64)      36928     \n",
      "_________________________________________________________________\n",
      "block1_pool (MaxPooling2D)   (None, 112, 112, 64)      0         \n",
      "_________________________________________________________________\n",
      "block2_conv1 (Conv2D)        (None, 112, 112, 128)     73856     \n",
      "_________________________________________________________________\n",
      "block2_conv2 (Conv2D)        (None, 112, 112, 128)     147584    \n",
      "_________________________________________________________________\n",
      "block2_pool (MaxPooling2D)   (None, 56, 56, 128)       0         \n",
      "_________________________________________________________________\n",
      "block3_conv1 (Conv2D)        (None, 56, 56, 256)       295168    \n",
      "_________________________________________________________________\n",
      "block3_conv2 (Conv2D)        (None, 56, 56, 256)       590080    \n",
      "_________________________________________________________________\n",
      "block3_conv3 (Conv2D)        (None, 56, 56, 256)       590080    \n",
      "_________________________________________________________________\n",
      "block3_pool (MaxPooling2D)   (None, 28, 28, 256)       0         \n",
      "_________________________________________________________________\n",
      "block4_conv1 (Conv2D)        (None, 28, 28, 512)       1180160   \n",
      "_________________________________________________________________\n",
      "block4_conv2 (Conv2D)        (None, 28, 28, 512)       2359808   \n",
      "_________________________________________________________________\n",
      "block4_conv3 (Conv2D)        (None, 28, 28, 512)       2359808   \n",
      "_________________________________________________________________\n",
      "block4_pool (MaxPooling2D)   (None, 14, 14, 512)       0         \n",
      "_________________________________________________________________\n",
      "block5_conv1 (Conv2D)        (None, 14, 14, 512)       2359808   \n",
      "_________________________________________________________________\n",
      "block5_conv2 (Conv2D)        (None, 14, 14, 512)       2359808   \n",
      "_________________________________________________________________\n",
      "block5_conv3 (Conv2D)        (None, 14, 14, 512)       2359808   \n",
      "_________________________________________________________________\n",
      "block5_pool (MaxPooling2D)   (None, 7, 7, 512)         0         \n",
      "_________________________________________________________________\n",
      "batch_normalization_2 (Batch (None, 7, 7, 512)         2048      \n",
      "_________________________________________________________________\n",
      "flatten_2 (Flatten)          (None, 25088)             0         \n",
      "_________________________________________________________________\n",
      "dense_4 (Dense)              (None, 2048)              51382272  \n",
      "_________________________________________________________________\n",
      "dropout_3 (Dropout)          (None, 2048)              0         \n",
      "_________________________________________________________________\n",
      "dense_5 (Dense)              (None, 256)               524544    \n",
      "_________________________________________________________________\n",
      "dropout_4 (Dropout)          (None, 256)               0         \n",
      "_________________________________________________________________\n",
      "dense_6 (Dense)              (None, 2)                 514       \n",
      "=================================================================\n",
      "Total params: 66,624,066\n",
      "Trainable params: 51,908,354\n",
      "Non-trainable params: 14,715,712\n",
      "_________________________________________________________________\n"
     ]
    }
   ],
   "source": [
    "from keras.layers import Flatten, Dense, Dropout\n",
    "from keras.layers import BatchNormalization\n",
    "from keras.models import Model\n",
    "# Dense(256, activation=\"relu\") -> 函式(e.g. return print)\n",
    "# tensor = func(tensor)\n",
    "for l in vgg.layers:\n",
    "    l.trainable = False\n",
    "# 1024:trainable 1024:non-trainable\n",
    "x = BatchNormalization()(vgg.output)\n",
    "x = Flatten()(x)\n",
    "x = Dense(2048, activation=\"relu\")(x)\n",
    "x = Dropout(0.25)(x)\n",
    "x = Dense(256, activation=\"relu\")(x)\n",
    "x = Dropout(0.25)(x)\n",
    "x = Dense(3, activation=\"softmax\")(x)\n",
    "# Model(inputs=tensor, outputs=tensor)\n",
    "cnn = Model(inputs=vgg.input, outputs=x)\n",
    "cnn.summary()"
   ]
  },
  {
   "cell_type": "code",
   "execution_count": 18,
   "metadata": {},
   "outputs": [],
   "source": [
    "# trainable一定要在compile前就設定\n",
    "cnn.compile(loss=\"categorical_crossentropy\",\n",
    "            optimizer=\"adam\",\n",
    "            metrics=[\"accuracy\"])"
   ]
  },
  {
   "cell_type": "code",
   "execution_count": 19,
   "metadata": {},
   "outputs": [],
   "source": [
    "from sklearn.model_selection import train_test_split\n",
    "# !!! 進入訓練階段以後, list(X), dataframe(X) np.array(O)\n",
    "import numpy as np\n",
    "from keras.utils.np_utils import to_categorical\n",
    "x = np.array(data[\"path\"])\n",
    "y = np.array(data[\"ans\"])\n",
    "y_cat = to_categorical(y)\n",
    "x_train, x_test, y_train, y_test = train_test_split(x, \n",
    "                                                    y_cat, \n",
    "                                                    test_size=0.1)"
   ]
  },
  {
   "cell_type": "code",
   "execution_count": 20,
   "metadata": {},
   "outputs": [
    {
     "data": {
      "text/plain": [
       "array([[[ -24.939003  ,   18.221     ,   -9.68      ],\n",
       "        [ -29.939003  ,   12.221001  ,  -13.68      ],\n",
       "        [ -27.939003  ,   15.221001  ,  -12.68      ],\n",
       "        ...,\n",
       "        [  14.060997  ,   37.221     ,   14.32      ],\n",
       "        [  15.060997  ,   38.221     ,   15.32      ],\n",
       "        [  14.060997  ,   36.221     ,   15.32      ]],\n",
       "\n",
       "       [[ -24.939003  ,   18.221     ,   -9.68      ],\n",
       "        [ -24.939003  ,   14.221001  ,  -10.68      ],\n",
       "        [ -28.939003  ,   14.221001  ,  -13.68      ],\n",
       "        ...,\n",
       "        [  15.060997  ,   39.221     ,   16.32      ],\n",
       "        [  14.060997  ,   38.221     ,   15.32      ],\n",
       "        [  14.060997  ,   37.221     ,   16.32      ]],\n",
       "\n",
       "       [[ -26.939003  ,   15.221001  ,  -10.68      ],\n",
       "        [ -26.939003  ,   13.221001  ,  -13.68      ],\n",
       "        [ -25.939003  ,   12.221001  ,  -14.68      ],\n",
       "        ...,\n",
       "        [  14.060997  ,   38.221     ,   15.32      ],\n",
       "        [  13.060997  ,   36.221     ,   13.32      ],\n",
       "        [  15.060997  ,   37.221     ,   16.32      ]],\n",
       "\n",
       "       ...,\n",
       "\n",
       "       [[ -73.939     ,  -90.779     ,  -98.68      ],\n",
       "        [ -75.939     ,  -93.779     , -101.68      ],\n",
       "        [ -73.939     ,  -91.779     ,  -99.68      ],\n",
       "        ...,\n",
       "        [ -22.939003  ,    0.22100067,  -20.68      ],\n",
       "        [ -18.939003  ,    1.2210007 ,  -19.68      ],\n",
       "        [ -21.939003  ,    0.22100067,  -20.68      ]],\n",
       "\n",
       "       [[ -75.939     ,  -92.779     , -100.68      ],\n",
       "        [ -78.939     ,  -98.779     , -108.68      ],\n",
       "        [ -61.939003  ,  -79.779     ,  -87.68      ],\n",
       "        ...,\n",
       "        [ -18.939003  ,    1.2210007 ,  -19.68      ],\n",
       "        [ -21.939003  ,    1.2210007 ,  -19.68      ],\n",
       "        [ -18.939003  ,    1.2210007 ,  -19.68      ]],\n",
       "\n",
       "       [[ -73.939     ,  -91.779     ,  -99.68      ],\n",
       "        [ -58.939003  ,  -76.779     ,  -86.68      ],\n",
       "        [ -53.939003  ,  -75.779     ,  -85.68      ],\n",
       "        ...,\n",
       "        [ -21.939003  ,    0.22100067,  -20.68      ],\n",
       "        [ -20.939003  ,    1.2210007 ,  -19.68      ],\n",
       "        [ -18.939003  ,    3.2210007 ,  -17.68      ]]], dtype=float32)"
      ]
     },
     "execution_count": 20,
     "metadata": {},
     "output_type": "execute_result"
    }
   ],
   "source": [
    "# Pillow(PIL)\n",
    "# 處理一張照片給你看\n",
    "from keras.preprocessing.image import load_img\n",
    "# 一定使用那個模型的preprocess\n",
    "from keras.applications.vgg16 import preprocess_input\n",
    "img = load_img(x_train[0], target_size=(224, 224)).convert(\"RGB\")\n",
    "img_np = np.array(img)\n",
    "preprocess_input(img_np)"
   ]
  },
  {
   "cell_type": "code",
   "execution_count": 21,
   "metadata": {},
   "outputs": [],
   "source": [
    "# x:圖片, y:答案, batch:取幾個\n",
    "# 回傳 (原始圖片[batch], 處理圖片[batch], 答案[batch])\n",
    "def get_data(x, y, batch):\n",
    "    idx = np.random.randint(0, x.shape[0], batch)\n",
    "    # 原本未處理的圖片\n",
    "    oriimgs = []\n",
    "    # Preprocess過後的圖片\n",
    "    preimgs = []\n",
    "    for p in x[idx]:\n",
    "        img = load_img(p, target_size=(224, 224)).convert(\"RGB\")\n",
    "        img_np = np.array(img)\n",
    "        oriimgs.append(img_np)\n",
    "        img_pre = preprocess_input(img_np) \n",
    "        preimgs.append(img_pre)\n",
    "\n",
    "    oriimgs = np.array(oriimgs)\n",
    "    preimgs = np.array(preimgs)\n",
    "    ans = y[idx]\n",
    "    return (oriimgs, preimgs, ans)"
   ]
  },
  {
   "cell_type": "code",
   "execution_count": 22,
   "metadata": {},
   "outputs": [
    {
     "name": "stdout",
     "output_type": "stream",
     "text": [
      "次數: 1\n"
     ]
    },
    {
     "ename": "ValueError",
     "evalue": "Error when checking target: expected dense_6 to have shape (2,) but got array with shape (3,)",
     "traceback": [
      "\u001b[0;31m---------------------------------------------------------------------------\u001b[0m",
      "\u001b[0;31mValueError\u001b[0m                                Traceback (most recent call last)",
      "\u001b[0;32m<ipython-input-22-cd2ab64692af>\u001b[0m in \u001b[0;36m<module>\u001b[0;34m()\u001b[0m\n\u001b[1;32m      5\u001b[0m     \u001b[0mbatch\u001b[0m \u001b[0;34m=\u001b[0m \u001b[0;36m10\u001b[0m\u001b[0;34m\u001b[0m\u001b[0m\n\u001b[1;32m      6\u001b[0m     \u001b[0mtrain\u001b[0m \u001b[0;34m=\u001b[0m \u001b[0mget_data\u001b[0m\u001b[0;34m(\u001b[0m\u001b[0mx_train\u001b[0m\u001b[0;34m,\u001b[0m \u001b[0my_train\u001b[0m\u001b[0;34m,\u001b[0m \u001b[0mbatch\u001b[0m\u001b[0;34m)\u001b[0m\u001b[0;34m\u001b[0m\u001b[0m\n\u001b[0;32m----> 7\u001b[0;31m     \u001b[0mtrain_result\u001b[0m \u001b[0;34m=\u001b[0m \u001b[0mcnn\u001b[0m\u001b[0;34m.\u001b[0m\u001b[0mtrain_on_batch\u001b[0m\u001b[0;34m(\u001b[0m\u001b[0mtrain\u001b[0m\u001b[0;34m[\u001b[0m\u001b[0;36m1\u001b[0m\u001b[0;34m]\u001b[0m\u001b[0;34m,\u001b[0m \u001b[0mtrain\u001b[0m\u001b[0;34m[\u001b[0m\u001b[0;36m2\u001b[0m\u001b[0;34m]\u001b[0m\u001b[0;34m)\u001b[0m\u001b[0;34m\u001b[0m\u001b[0m\n\u001b[0m\u001b[1;32m      8\u001b[0m     \u001b[0mprint\u001b[0m\u001b[0;34m(\u001b[0m\u001b[0;34m\"[Train]:\"\u001b[0m\u001b[0;34m,\u001b[0m \u001b[0mtrain_result\u001b[0m\u001b[0;34m)\u001b[0m\u001b[0;34m\u001b[0m\u001b[0m\n\u001b[1;32m      9\u001b[0m     \u001b[0;31m# 如果可以把驗證的圖片設多一點\u001b[0m\u001b[0;34m\u001b[0m\u001b[0;34m\u001b[0m\u001b[0m\n",
      "\u001b[0;32mC:\\Users\\Big data\\PycharmProjects\\DB103\\venv\\lib\\site-packages\\keras\\engine\\training.py\u001b[0m in \u001b[0;36mtrain_on_batch\u001b[0;34m(self, x, y, sample_weight, class_weight)\u001b[0m\n\u001b[1;32m   1441\u001b[0m             \u001b[0mx\u001b[0m\u001b[0;34m,\u001b[0m \u001b[0my\u001b[0m\u001b[0;34m,\u001b[0m\u001b[0;34m\u001b[0m\u001b[0m\n\u001b[1;32m   1442\u001b[0m             \u001b[0msample_weight\u001b[0m\u001b[0;34m=\u001b[0m\u001b[0msample_weight\u001b[0m\u001b[0;34m,\u001b[0m\u001b[0;34m\u001b[0m\u001b[0m\n\u001b[0;32m-> 1443\u001b[0;31m             class_weight=class_weight)\n\u001b[0m\u001b[1;32m   1444\u001b[0m         \u001b[0;32mif\u001b[0m \u001b[0mself\u001b[0m\u001b[0;34m.\u001b[0m\u001b[0m_uses_dynamic_learning_phase\u001b[0m\u001b[0;34m(\u001b[0m\u001b[0;34m)\u001b[0m\u001b[0;34m:\u001b[0m\u001b[0;34m\u001b[0m\u001b[0m\n\u001b[1;32m   1445\u001b[0m             \u001b[0mins\u001b[0m \u001b[0;34m=\u001b[0m \u001b[0mx\u001b[0m \u001b[0;34m+\u001b[0m \u001b[0my\u001b[0m \u001b[0;34m+\u001b[0m \u001b[0msample_weights\u001b[0m \u001b[0;34m+\u001b[0m \u001b[0;34m[\u001b[0m\u001b[0;36m1.\u001b[0m\u001b[0;34m]\u001b[0m\u001b[0;34m\u001b[0m\u001b[0m\n",
      "\u001b[0;32mC:\\Users\\Big data\\PycharmProjects\\DB103\\venv\\lib\\site-packages\\keras\\engine\\training.py\u001b[0m in \u001b[0;36m_standardize_user_data\u001b[0;34m(self, x, y, sample_weight, class_weight, check_array_lengths, batch_size)\u001b[0m\n\u001b[1;32m    793\u001b[0m                 \u001b[0mfeed_output_shapes\u001b[0m\u001b[0;34m,\u001b[0m\u001b[0;34m\u001b[0m\u001b[0m\n\u001b[1;32m    794\u001b[0m                 \u001b[0mcheck_batch_axis\u001b[0m\u001b[0;34m=\u001b[0m\u001b[0;32mFalse\u001b[0m\u001b[0;34m,\u001b[0m  \u001b[0;31m# Don't enforce the batch size.\u001b[0m\u001b[0;34m\u001b[0m\u001b[0m\n\u001b[0;32m--> 795\u001b[0;31m                 exception_prefix='target')\n\u001b[0m\u001b[1;32m    796\u001b[0m \u001b[0;34m\u001b[0m\u001b[0m\n\u001b[1;32m    797\u001b[0m             \u001b[0;31m# Generate sample-wise weight values given the `sample_weight` and\u001b[0m\u001b[0;34m\u001b[0m\u001b[0;34m\u001b[0m\u001b[0m\n",
      "\u001b[0;32mC:\\Users\\Big data\\PycharmProjects\\DB103\\venv\\lib\\site-packages\\keras\\engine\\training_utils.py\u001b[0m in \u001b[0;36mstandardize_input_data\u001b[0;34m(data, names, shapes, check_batch_axis, exception_prefix)\u001b[0m\n\u001b[1;32m    139\u001b[0m                             \u001b[0;34m': expected '\u001b[0m \u001b[0;34m+\u001b[0m \u001b[0mnames\u001b[0m\u001b[0;34m[\u001b[0m\u001b[0mi\u001b[0m\u001b[0;34m]\u001b[0m \u001b[0;34m+\u001b[0m \u001b[0;34m' to have shape '\u001b[0m \u001b[0;34m+\u001b[0m\u001b[0;34m\u001b[0m\u001b[0m\n\u001b[1;32m    140\u001b[0m                             \u001b[0mstr\u001b[0m\u001b[0;34m(\u001b[0m\u001b[0mshape\u001b[0m\u001b[0;34m)\u001b[0m \u001b[0;34m+\u001b[0m \u001b[0;34m' but got array with shape '\u001b[0m \u001b[0;34m+\u001b[0m\u001b[0;34m\u001b[0m\u001b[0m\n\u001b[0;32m--> 141\u001b[0;31m                             str(data_shape))\n\u001b[0m\u001b[1;32m    142\u001b[0m     \u001b[0;32mreturn\u001b[0m \u001b[0mdata\u001b[0m\u001b[0;34m\u001b[0m\u001b[0m\n\u001b[1;32m    143\u001b[0m \u001b[0;34m\u001b[0m\u001b[0m\n",
      "\u001b[0;31mValueError\u001b[0m: Error when checking target: expected dense_6 to have shape (2,) but got array with shape (3,)"
     ],
     "output_type": "error"
    }
   ],
   "source": [
    "# 訓練: train_on_batch\n",
    "# 驗證: test_on_batch\n",
    "for i in range(10):\n",
    "    print(\"次數:\", i + 1)\n",
    "    batch = 80\n",
    "    train = get_data(x_train, y_train, batch)\n",
    "    train_result = cnn.train_on_batch(train[1], train[2])\n",
    "    print(\"[Train]:\", train_result)\n",
    "    # 如果可以把驗證的圖片設多一點\n",
    "    test_batch = 20\n",
    "    test = get_data(x_test, y_test, test_batch)\n",
    "    test_result = cnn.test_on_batch(test[1], test[2])\n",
    "    print(\"[Validate]:\", test_result)\n",
    "    print(\"-\" * 30)"
   ]
  },
  {
   "cell_type": "code",
   "execution_count": null,
   "metadata": {},
   "outputs": [
    {
     "data": {
      "text/plain": [
       "array([[1.0000000e+00, 0.0000000e+00],\n",
       "       [1.0000000e+00, 0.0000000e+00],\n",
       "       [3.4438510e-17, 1.0000000e+00],\n",
       "       [2.4553778e-31, 1.0000000e+00],\n",
       "       [1.0000000e+00, 0.0000000e+00],\n",
       "       [1.0000000e+00, 0.0000000e+00],\n",
       "       [5.4243790e-21, 1.0000000e+00],\n",
       "       [1.0000000e+00, 1.9295128e-17],\n",
       "       [2.4553778e-31, 1.0000000e+00],\n",
       "       [7.9162176e-13, 1.0000000e+00],\n",
       "       [1.0000000e+00, 5.6249081e-35],\n",
       "       [2.5100299e-17, 1.0000000e+00],\n",
       "       [1.0000000e+00, 2.1541868e-24],\n",
       "       [1.0000000e+00, 0.0000000e+00],\n",
       "       [1.5789500e-38, 1.0000000e+00],\n",
       "       [2.4553778e-31, 1.0000000e+00],\n",
       "       [1.0000000e+00, 0.0000000e+00],\n",
       "       [7.9162176e-13, 1.0000000e+00],\n",
       "       [3.7497703e-09, 1.0000000e+00],\n",
       "       [1.0000000e+00, 1.8362955e-37]], dtype=float32)"
      ]
     },
     "execution_count": 9,
     "metadata": {},
     "output_type": "execute_result"
    }
   ],
   "source": [
    "# 秀一下問題給你看\n",
    "# 問題1: 怎麼全部同一個預測\n",
    "# 問題2: 機率不該看到1 & 0\n",
    "cnn.predict(test[1])"
   ]
  },
  {
   "cell_type": "code",
   "execution_count": 10,
   "metadata": {},
   "outputs": [
    {
     "name": "stdout",
     "output_type": "stream",
     "text": [
      "\r",
      "20/20 [==============================] - 2s 93ms/step\n"
     ]
    },
    {
     "data": {
      "text/plain": [
       "[2.4177143573760986, 0.8500000238418579]"
      ]
     },
     "execution_count": 10,
     "metadata": {},
     "output_type": "execute_result"
    }
   ],
   "source": [
    "final_batch = 50\n",
    "final = get_data(x_test, y_test, final_batch)\n",
    "pre = cnn.predict(final[1])\n",
    "cnn.evaluate(final[1], final[2])"
   ]
  },
  {
   "cell_type": "code",
   "execution_count": null,
   "metadata": {},
   "outputs": [
    {
     "data": {
      "image/png": "[encoded data removed]",
      "text/plain": [
       "<Figure size 1008x576 with 3 Axes>"
      ]
     },
     "metadata": {
      "needs_background": "light"
     },
     "output_type": "display_data"
    }
   ],
   "source": [
    "import matplotlib.pyplot as plt\n",
    "%matplotlib inline\n",
    "# Model沒有predict_classes\n",
    "# 所以我們要用argmax() 取得最大值的索引\n",
    "# pre.argmax(axis=1)\n",
    "idx = np.nonzero(pre.argmax(axis=1) != final[2].argmax(axis=1))[0]\n",
    "# 預測錯誤的圖片\n",
    "false_img = final[0][idx]\n",
    "# 預測錯誤圖片的正確答案\n",
    "false_answer = final[2].argmax(axis=1)[idx]\n",
    "# 預測錯誤圖片的預測標籤\n",
    "false_pre = pre.argmax(axis=1)[idx]\n",
    "\n",
    "trans = [\"document\", \"graduation\", \"live\"]\n",
    "width = 10\n",
    "height = len(false_img) // width + 1\n",
    "plt.figure(figsize=(14, 8))\n",
    "for i, img in enumerate(false_img):\n",
    "    plt.subplot(height, width, i+1)\n",
    "    t = \"[O]:\" + trans[false_answer[i]] + \"\\n[P]:\" + trans[false_pre[i]]\n",
    "    plt.title(t)\n",
    "    plt.axis(\"off\")\n",
    "    plt.imshow(img)\n"
   ]
  },
  {
   "cell_type": "code",
   "execution_count": null,
   "metadata": {},
   "outputs": [],
   "source": [
    "#輸入圖片目錄路徑\n",
    "TEST = glob.glob(\"C:/Users/Big data/Desktop/pic_data/test/*.jpg\")\n",
    "inimg = load_img(TEST[0], target_size=(224, 224)).convert(\"RGB\")\n",
    "img_np2 = np.array(inimg)\n",
    "img_pre2 = preprocess_input(img_np2)\n",
    "pre2imgs = []\n",
    "pre2imgs.append(img_pre2)\n",
    "pre2imgs = np.array(pre2imgs)\n",
    "pre2imgs\n",
    "\n",
    "pre = cnn.predict(pre2imgs)\n",
    "pre"
   ]
  }
 ],
 "metadata": {
  "kernelspec": {
   "display_name": "Python 3",
   "language": "python",
   "name": "python3"
  },
  "language_info": {
   "codemirror_mode": {
    "name": "ipython",
    "version": 3
   },
   "file_extension": ".py",
   "mimetype": "text/x-python",
   "name": "python",
   "nbconvert_exporter": "python",
   "pygments_lexer": "ipython3",
   "version": "3.7.0"
  }
 },
 "nbformat": 4,
 "nbformat_minor": 2
}
