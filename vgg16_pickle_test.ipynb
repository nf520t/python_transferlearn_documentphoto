{
 "cells": [
  {
   "cell_type": "code",
   "execution_count": 12,
   "metadata": {},
   "outputs": [
    {
     "data": {
      "text/html": [
       "<div>\n",
       "<style scoped>\n",
       "    .dataframe tbody tr th:only-of-type {\n",
       "        vertical-align: middle;\n",
       "    }\n",
       "\n",
       "    .dataframe tbody tr th {\n",
       "        vertical-align: top;\n",
       "    }\n",
       "\n",
       "    .dataframe thead th {\n",
       "        text-align: right;\n",
       "    }\n",
       "</style>\n",
       "<table border=\"1\" class=\"dataframe\">\n",
       "  <thead>\n",
       "    <tr style=\"text-align: right;\">\n",
       "      <th></th>\n",
       "      <th>path</th>\n",
       "      <th>ans</th>\n",
       "    </tr>\n",
       "  </thead>\n",
       "  <tbody>\n",
       "    <tr>\n",
       "      <td>0</td>\n",
       "      <td>C:/Users/Big data/Desktop/pic_data/document\\0 ...</td>\n",
       "      <td>0</td>\n",
       "    </tr>\n",
       "    <tr>\n",
       "      <td>1</td>\n",
       "      <td>C:/Users/Big data/Desktop/pic_data/document\\0.jpg</td>\n",
       "      <td>0</td>\n",
       "    </tr>\n",
       "    <tr>\n",
       "      <td>2</td>\n",
       "      <td>C:/Users/Big data/Desktop/pic_data/document\\00...</td>\n",
       "      <td>0</td>\n",
       "    </tr>\n",
       "    <tr>\n",
       "      <td>3</td>\n",
       "      <td>C:/Users/Big data/Desktop/pic_data/document\\00...</td>\n",
       "      <td>0</td>\n",
       "    </tr>\n",
       "    <tr>\n",
       "      <td>4</td>\n",
       "      <td>C:/Users/Big data/Desktop/pic_data/document\\00...</td>\n",
       "      <td>0</td>\n",
       "    </tr>\n",
       "    <tr>\n",
       "      <td>...</td>\n",
       "      <td>...</td>\n",
       "      <td>...</td>\n",
       "    </tr>\n",
       "    <tr>\n",
       "      <td>1441</td>\n",
       "      <td>C:/Users/Big data/Desktop/pic_data/noman\\金門單程船...</td>\n",
       "      <td>3</td>\n",
       "    </tr>\n",
       "    <tr>\n",
       "      <td>1442</td>\n",
       "      <td>C:/Users/Big data/Desktop/pic_data/noman\\長埤湖風景...</td>\n",
       "      <td>3</td>\n",
       "    </tr>\n",
       "    <tr>\n",
       "      <td>1443</td>\n",
       "      <td>C:/Users/Big data/Desktop/pic_data/noman\\閃閃發光的...</td>\n",
       "      <td>3</td>\n",
       "    </tr>\n",
       "    <tr>\n",
       "      <td>1444</td>\n",
       "      <td>C:/Users/Big data/Desktop/pic_data/noman\\香港花店_...</td>\n",
       "      <td>3</td>\n",
       "    </tr>\n",
       "    <tr>\n",
       "      <td>1445</td>\n",
       "      <td>C:/Users/Big data/Desktop/pic_data/noman\\麵包樹_1...</td>\n",
       "      <td>3</td>\n",
       "    </tr>\n",
       "  </tbody>\n",
       "</table>\n",
       "<p>1446 rows × 2 columns</p>\n",
       "</div>"
      ],
      "text/plain": [
       "                                                   path  ans\n",
       "0     C:/Users/Big data/Desktop/pic_data/document\\0 ...    0\n",
       "1     C:/Users/Big data/Desktop/pic_data/document\\0.jpg    0\n",
       "2     C:/Users/Big data/Desktop/pic_data/document\\00...    0\n",
       "3     C:/Users/Big data/Desktop/pic_data/document\\00...    0\n",
       "4     C:/Users/Big data/Desktop/pic_data/document\\00...    0\n",
       "...                                                 ...  ...\n",
       "1441  C:/Users/Big data/Desktop/pic_data/noman\\金門單程船...    3\n",
       "1442  C:/Users/Big data/Desktop/pic_data/noman\\長埤湖風景...    3\n",
       "1443  C:/Users/Big data/Desktop/pic_data/noman\\閃閃發光的...    3\n",
       "1444  C:/Users/Big data/Desktop/pic_data/noman\\香港花店_...    3\n",
       "1445  C:/Users/Big data/Desktop/pic_data/noman\\麵包樹_1...    3\n",
       "\n",
       "[1446 rows x 2 columns]"
      ]
     },
     "execution_count": 12,
     "metadata": {},
     "output_type": "execute_result"
    }
   ],
   "source": [
    "import glob\n",
    "import pandas as pd\n",
    "#訓練圖片目錄路徑\n",
    "document = glob.glob(\"C:/Users/Big data/Desktop/pic_data/document/*.jpg\")\n",
    "graduation = glob.glob(\"C:/Users/Big data/Desktop/pic_data/graduation/*.jpg\")\n",
    "live = glob.glob(\"C:/Users/Big data/Desktop/pic_data/live/*.jpg\")\n",
    "noman = glob.glob(\"C:/Users/Big data/Desktop/pic_data/noman/*.jpg\")\n",
    "data = pd.DataFrame({\n",
    "    \"path\": document+ graduation+ live+ noman,\n",
    "    \"ans\": [0] * len(document) + [1] * len(graduation)+ [2] * len(live) + [3] * len(noman)\n",
    "})\n",
    "data"
   ]
  },
  {
   "cell_type": "code",
   "execution_count": 13,
   "metadata": {},
   "outputs": [
    {
     "name": "stdout",
     "output_type": "stream",
     "text": [
      "Model: \"vgg16\"\n",
      "_________________________________________________________________\n",
      "Layer (type)                 Output Shape              Param #   \n",
      "=================================================================\n",
      "input_2 (InputLayer)         (None, 224, 224, 3)       0         \n",
      "_________________________________________________________________\n",
      "block1_conv1 (Conv2D)        (None, 224, 224, 64)      1792      \n",
      "_________________________________________________________________\n",
      "block1_conv2 (Conv2D)        (None, 224, 224, 64)      36928     \n",
      "_________________________________________________________________\n",
      "block1_pool (MaxPooling2D)   (None, 112, 112, 64)      0         \n",
      "_________________________________________________________________\n",
      "block2_conv1 (Conv2D)        (None, 112, 112, 128)     73856     \n",
      "_________________________________________________________________\n",
      "block2_conv2 (Conv2D)        (None, 112, 112, 128)     147584    \n",
      "_________________________________________________________________\n",
      "block2_pool (MaxPooling2D)   (None, 56, 56, 128)       0         \n",
      "_________________________________________________________________\n",
      "block3_conv1 (Conv2D)        (None, 56, 56, 256)       295168    \n",
      "_________________________________________________________________\n",
      "block3_conv2 (Conv2D)        (None, 56, 56, 256)       590080    \n",
      "_________________________________________________________________\n",
      "block3_conv3 (Conv2D)        (None, 56, 56, 256)       590080    \n",
      "_________________________________________________________________\n",
      "block3_pool (MaxPooling2D)   (None, 28, 28, 256)       0         \n",
      "_________________________________________________________________\n",
      "block4_conv1 (Conv2D)        (None, 28, 28, 512)       1180160   \n",
      "_________________________________________________________________\n",
      "block4_conv2 (Conv2D)        (None, 28, 28, 512)       2359808   \n",
      "_________________________________________________________________\n",
      "block4_conv3 (Conv2D)        (None, 28, 28, 512)       2359808   \n",
      "_________________________________________________________________\n",
      "block4_pool (MaxPooling2D)   (None, 14, 14, 512)       0         \n",
      "_________________________________________________________________\n",
      "block5_conv1 (Conv2D)        (None, 14, 14, 512)       2359808   \n",
      "_________________________________________________________________\n",
      "block5_conv2 (Conv2D)        (None, 14, 14, 512)       2359808   \n",
      "_________________________________________________________________\n",
      "block5_conv3 (Conv2D)        (None, 14, 14, 512)       2359808   \n",
      "_________________________________________________________________\n",
      "block5_pool (MaxPooling2D)   (None, 7, 7, 512)         0         \n",
      "=================================================================\n",
      "Total params: 14,714,688\n",
      "Trainable params: 14,714,688\n",
      "Non-trainable params: 0\n",
      "_________________________________________________________________\n"
     ]
    }
   ],
   "source": [
    "from keras.applications.vgg16 import VGG16\n",
    "vgg = VGG16(include_top=False, input_shape=(224, 224, 3))\n",
    "vgg.summary()"
   ]
  },
  {
   "cell_type": "code",
   "execution_count": 14,
   "metadata": {},
   "outputs": [
    {
     "name": "stdout",
     "output_type": "stream",
     "text": [
      "Model: \"model_2\"\n",
      "_________________________________________________________________\n",
      "Layer (type)                 Output Shape              Param #   \n",
      "=================================================================\n",
      "input_2 (InputLayer)         (None, 224, 224, 3)       0         \n",
      "_________________________________________________________________\n",
      "block1_conv1 (Conv2D)        (None, 224, 224, 64)      1792      \n",
      "_________________________________________________________________\n",
      "block1_conv2 (Conv2D)        (None, 224, 224, 64)      36928     \n",
      "_________________________________________________________________\n",
      "block1_pool (MaxPooling2D)   (None, 112, 112, 64)      0         \n",
      "_________________________________________________________________\n",
      "block2_conv1 (Conv2D)        (None, 112, 112, 128)     73856     \n",
      "_________________________________________________________________\n",
      "block2_conv2 (Conv2D)        (None, 112, 112, 128)     147584    \n",
      "_________________________________________________________________\n",
      "block2_pool (MaxPooling2D)   (None, 56, 56, 128)       0         \n",
      "_________________________________________________________________\n",
      "block3_conv1 (Conv2D)        (None, 56, 56, 256)       295168    \n",
      "_________________________________________________________________\n",
      "block3_conv2 (Conv2D)        (None, 56, 56, 256)       590080    \n",
      "_________________________________________________________________\n",
      "block3_conv3 (Conv2D)        (None, 56, 56, 256)       590080    \n",
      "_________________________________________________________________\n",
      "block3_pool (MaxPooling2D)   (None, 28, 28, 256)       0         \n",
      "_________________________________________________________________\n",
      "block4_conv1 (Conv2D)        (None, 28, 28, 512)       1180160   \n",
      "_________________________________________________________________\n",
      "block4_conv2 (Conv2D)        (None, 28, 28, 512)       2359808   \n",
      "_________________________________________________________________\n",
      "block4_conv3 (Conv2D)        (None, 28, 28, 512)       2359808   \n",
      "_________________________________________________________________\n",
      "block4_pool (MaxPooling2D)   (None, 14, 14, 512)       0         \n",
      "_________________________________________________________________\n",
      "block5_conv1 (Conv2D)        (None, 14, 14, 512)       2359808   \n",
      "_________________________________________________________________\n",
      "block5_conv2 (Conv2D)        (None, 14, 14, 512)       2359808   \n",
      "_________________________________________________________________\n",
      "block5_conv3 (Conv2D)        (None, 14, 14, 512)       2359808   \n",
      "_________________________________________________________________\n",
      "block5_pool (MaxPooling2D)   (None, 7, 7, 512)         0         \n",
      "_________________________________________________________________\n",
      "batch_normalization_2 (Batch (None, 7, 7, 512)         2048      \n",
      "_________________________________________________________________\n",
      "flatten_2 (Flatten)          (None, 25088)             0         \n",
      "_________________________________________________________________\n",
      "dense_4 (Dense)              (None, 2048)              51382272  \n",
      "_________________________________________________________________\n",
      "dropout_3 (Dropout)          (None, 2048)              0         \n",
      "_________________________________________________________________\n",
      "dense_5 (Dense)              (None, 256)               524544    \n",
      "_________________________________________________________________\n",
      "dropout_4 (Dropout)          (None, 256)               0         \n",
      "_________________________________________________________________\n",
      "dense_6 (Dense)              (None, 4)                 1028      \n",
      "=================================================================\n",
      "Total params: 66,624,580\n",
      "Trainable params: 51,908,868\n",
      "Non-trainable params: 14,715,712\n",
      "_________________________________________________________________\n"
     ]
    }
   ],
   "source": [
    "from keras.layers import Flatten, Dense, Dropout\n",
    "from keras.layers import BatchNormalization\n",
    "from keras.models import Model\n",
    "# Dense(256, activation=\"relu\") -> 函式(e.g. return print)\n",
    "# tensor = func(tensor)\n",
    "for l in vgg.layers:\n",
    "    l.trainable = False\n",
    "# 1024:trainable 1024:non-trainable\n",
    "x = BatchNormalization()(vgg.output)\n",
    "x = Flatten()(x)\n",
    "x = Dense(2048, activation=\"relu\")(x)\n",
    "x = Dropout(0.25)(x)\n",
    "x = Dense(256, activation=\"relu\")(x)\n",
    "x = Dropout(0.25)(x)\n",
    "x = Dense(4, activation=\"softmax\")(x)\n",
    "# Model(inputs=tensor, outputs=tensor)\n",
    "cnn = Model(inputs=vgg.input, outputs=x)\n",
    "cnn.summary()"
   ]
  },
  {
   "cell_type": "code",
   "execution_count": 15,
   "metadata": {},
   "outputs": [],
   "source": [
    "# trainable一定要在compile前就設定\n",
    "cnn.compile(loss=\"categorical_crossentropy\",\n",
    "            optimizer=\"adam\",\n",
    "            metrics=[\"accuracy\"])"
   ]
  },
  {
   "cell_type": "code",
   "execution_count": 16,
   "metadata": {},
   "outputs": [],
   "source": [
    "from sklearn.model_selection import train_test_split\n",
    "# !!! 進入訓練階段以後, list(X), dataframe(X) np.array(O)\n",
    "import numpy as np\n",
    "from keras.utils.np_utils import to_categorical\n",
    "x = np.array(data[\"path\"])\n",
    "y = np.array(data[\"ans\"])\n",
    "y_cat = to_categorical(y)\n",
    "x_train, x_test, y_train, y_test = train_test_split(x, \n",
    "                                                    y_cat, \n",
    "                                                    test_size=0.1)"
   ]
  },
  {
   "cell_type": "code",
   "execution_count": 17,
   "metadata": {},
   "outputs": [
    {
     "data": {
      "text/plain": [
       "array([[[ -82.939   ,  -98.779   , -109.68    ],\n",
       "        [ -82.939   ,  -98.779   , -109.68    ],\n",
       "        [ -82.939   ,  -98.779   , -109.68    ],\n",
       "        ...,\n",
       "        [  31.060997,   14.221001,  -17.68    ],\n",
       "        [  30.060997,   13.221001,  -18.68    ],\n",
       "        [  31.060997,   14.221001,  -17.68    ]],\n",
       "\n",
       "       [[ -82.939   ,  -98.779   , -109.68    ],\n",
       "        [ -82.939   ,  -98.779   , -109.68    ],\n",
       "        [ -82.939   ,  -98.779   , -109.68    ],\n",
       "        ...,\n",
       "        [  33.060997,   16.221   ,  -15.68    ],\n",
       "        [  30.060997,   13.221001,  -18.68    ],\n",
       "        [  32.060997,   15.221001,  -16.68    ]],\n",
       "\n",
       "       [[ -82.939   ,  -98.779   , -109.68    ],\n",
       "        [ -82.939   ,  -98.779   , -109.68    ],\n",
       "        [ -82.939   ,  -98.779   , -109.68    ],\n",
       "        ...,\n",
       "        [  35.060997,   18.221   ,  -13.68    ],\n",
       "        [  32.060997,   15.221001,  -16.68    ],\n",
       "        [  30.060997,   13.221001,  -18.68    ]],\n",
       "\n",
       "       ...,\n",
       "\n",
       "       [[ -48.939003,  -62.779   ,  -83.68    ],\n",
       "        [ -43.939003,  -57.779   ,  -78.68    ],\n",
       "        [ -41.939003,  -57.779   ,  -78.68    ],\n",
       "        ...,\n",
       "        [ 140.061   ,  119.221   ,   99.32    ],\n",
       "        [ 141.061   ,  120.221   ,  100.32    ],\n",
       "        [ 139.061   ,  118.221   ,   98.32    ]],\n",
       "\n",
       "       [[ -49.939003,  -67.779   ,  -89.68    ],\n",
       "        [ -43.939003,  -61.779   ,  -83.68    ],\n",
       "        [ -45.939003,  -63.779   ,  -85.68    ],\n",
       "        ...,\n",
       "        [ 142.061   ,  120.221   ,  100.32    ],\n",
       "        [ 141.061   ,  119.221   ,   99.32    ],\n",
       "        [ 139.061   ,  117.221   ,   97.32    ]],\n",
       "\n",
       "       [[ -55.939003,  -73.779   ,  -95.68    ],\n",
       "        [ -49.939003,  -67.779   ,  -89.68    ],\n",
       "        [ -47.939003,  -65.779   ,  -87.68    ],\n",
       "        ...,\n",
       "        [ 142.061   ,  120.221   ,  100.32    ],\n",
       "        [ 141.061   ,  119.221   ,   99.32    ],\n",
       "        [ 139.061   ,  117.221   ,   97.32    ]]], dtype=float32)"
      ]
     },
     "execution_count": 17,
     "metadata": {},
     "output_type": "execute_result"
    }
   ],
   "source": [
    "# Pillow(PIL)\n",
    "# 處理一張照片給你看\n",
    "from keras.preprocessing.image import load_img\n",
    "# 一定使用那個模型的preprocess\n",
    "from keras.applications.vgg16 import preprocess_input\n",
    "img = load_img(x_train[0], target_size=(224, 224)).convert(\"RGB\")\n",
    "img_np = np.array(img)\n",
    "preprocess_input(img_np)"
   ]
  },
  {
   "cell_type": "code",
   "execution_count": 20,
   "metadata": {},
   "outputs": [],
   "source": [
    "# x:圖片, y:答案, batch:取幾個\n",
    "# 回傳 (原始圖片[batch], 處理圖片[batch], 答案[batch])\n",
    "def get_data(x, y, batch):\n",
    "    idx = np.random.randint(0, x.shape[0], batch)\n",
    "    # 原本未處理的圖片\n",
    "    oriimgs = []\n",
    "    # Preprocess過後的圖片\n",
    "    preimgs = []\n",
    "    for p in x[idx]:\n",
    "        img = load_img(p, target_size=(224, 224)).convert(\"RGB\")\n",
    "        img_np = np.array(img)\n",
    "        oriimgs.append(img_np)\n",
    "        img_pre = preprocess_input(img_np) \n",
    "        preimgs.append(img_pre)\n",
    "\n",
    "    oriimgs = np.array(oriimgs)\n",
    "    preimgs = np.array(preimgs)\n",
    "    ans = y[idx]\n",
    "    return (oriimgs, preimgs, ans)"
   ]
  },
  {
   "cell_type": "code",
   "execution_count": 21,
   "metadata": {},
   "outputs": [
    {
     "name": "stdout",
     "output_type": "stream",
     "text": [
      "次數: 1\n",
      "WARNING:tensorflow:From C:\\Users\\Big data\\PycharmProjects\\DB103\\venv\\lib\\site-packages\\tensorflow\\python\\ops\\math_grad.py:1250: add_dispatch_support.<locals>.wrapper (from tensorflow.python.ops.array_ops) is deprecated and will be removed in a future version.\n",
      "Instructions for updating:\n",
      "Use tf.where in 2.0, which has the same broadcast rule as np.where\n",
      "[Train]: [1.8904941, 0.2]\n",
      "[Validate]: [3.052298, 0.8]\n",
      "------------------------------\n",
      "次數: 2\n",
      "[Train]: [4.710133, 0.5125]\n",
      "[Validate]: [0.6541454, 0.65]\n",
      "------------------------------\n",
      "次數: 3\n",
      "[Train]: [0.59641635, 0.85]\n",
      "[Validate]: [1.7719128, 0.65]\n",
      "------------------------------\n",
      "次數: 4\n",
      "[Train]: [1.3014375, 0.725]\n",
      "[Validate]: [0.18838432, 0.95]\n",
      "------------------------------\n",
      "次數: 5\n",
      "[Train]: [0.7994167, 0.875]\n",
      "[Validate]: [0.21930969, 0.9]\n",
      "------------------------------\n",
      "次數: 6\n",
      "[Train]: [0.69914085, 0.8875]\n",
      "[Validate]: [0.079021685, 0.95]\n",
      "------------------------------\n",
      "次數: 7\n",
      "[Train]: [0.6998569, 0.85]\n",
      "[Validate]: [0.055378716, 1.0]\n",
      "------------------------------\n",
      "次數: 8\n",
      "[Train]: [0.3212267, 0.9]\n",
      "[Validate]: [0.1000119, 0.95]\n",
      "------------------------------\n",
      "次數: 9\n",
      "[Train]: [0.65851784, 0.8625]\n",
      "[Validate]: [0.121037185, 0.95]\n",
      "------------------------------\n",
      "次數: 10\n",
      "[Train]: [0.8551518, 0.8875]\n",
      "[Validate]: [0.21199998, 0.85]\n",
      "------------------------------\n"
     ]
    }
   ],
   "source": [
    "# 訓練: train_on_batch\n",
    "# 驗證: test_on_batch\n",
    "for i in range(10):\n",
    "    print(\"次數:\", i + 1)\n",
    "    batch = 80\n",
    "    train = get_data(x_train, y_train, batch)\n",
    "    train_result = cnn.train_on_batch(train[1], train[2])\n",
    "    print(\"[Train]:\", train_result)\n",
    "    # 如果可以把驗證的圖片設多一點\n",
    "    test_batch = 20\n",
    "    test = get_data(x_test, y_test, test_batch)\n",
    "    test_result = cnn.test_on_batch(test[1], test[2])\n",
    "    print(\"[Validate]:\", test_result)\n",
    "    print(\"-\" * 30)"
   ]
  },
  {
   "cell_type": "code",
   "execution_count": 22,
   "metadata": {},
   "outputs": [
    {
     "data": {
      "text/plain": [
       "array([[8.7647300e-07, 4.2204751e-16, 9.9999917e-01, 4.7189436e-12],\n",
       "       [3.9580419e-19, 2.0731681e-27, 1.0000000e+00, 9.0018003e-25],\n",
       "       [2.9592423e-17, 1.5770752e-19, 1.0000000e+00, 1.7450741e-15],\n",
       "       [8.6507535e-01, 6.3963697e-08, 1.3422157e-01, 7.0298434e-04],\n",
       "       [1.2965634e-01, 1.0761807e-05, 3.4569436e-01, 5.2463847e-01],\n",
       "       [9.9481636e-01, 9.2151839e-07, 5.0485516e-03, 1.3415459e-04],\n",
       "       [1.2460677e-03, 9.7400224e-01, 4.3581072e-03, 2.0393629e-02],\n",
       "       [9.9670773e-27, 1.0000000e+00, 4.4885464e-24, 2.7416116e-28],\n",
       "       [0.0000000e+00, 1.0000000e+00, 2.6102805e-37, 0.0000000e+00],\n",
       "       [3.0508442e-02, 1.9111446e-06, 3.2223675e-01, 6.4725292e-01],\n",
       "       [2.7008111e-32, 1.0000000e+00, 1.7165323e-30, 4.6952603e-32],\n",
       "       [3.7590237e-08, 3.4490411e-11, 1.9188408e-05, 9.9998081e-01],\n",
       "       [0.0000000e+00, 0.0000000e+00, 0.0000000e+00, 1.0000000e+00],\n",
       "       [2.4009888e-31, 0.0000000e+00, 8.4418076e-25, 1.0000000e+00],\n",
       "       [0.0000000e+00, 0.0000000e+00, 0.0000000e+00, 1.0000000e+00],\n",
       "       [9.9622631e-01, 4.2335914e-06, 3.7422206e-03, 2.7157603e-05],\n",
       "       [3.8536186e-06, 4.4715178e-09, 9.9999464e-01, 1.5132839e-06],\n",
       "       [8.6304583e-35, 1.0000000e+00, 1.7802132e-29, 7.1658813e-35],\n",
       "       [9.9828029e-01, 6.3422658e-07, 1.6938529e-03, 2.5253237e-05],\n",
       "       [4.1731166e-19, 1.0000000e+00, 1.5663066e-20, 2.7508137e-25]],\n",
       "      dtype=float32)"
      ]
     },
     "execution_count": 22,
     "metadata": {},
     "output_type": "execute_result"
    }
   ],
   "source": [
    "# 秀一下問題給你看\n",
    "# 問題1: 怎麼全部同一個預測\n",
    "# 問題2: 機率不該看到1 & 0\n",
    "cnn.predict(test[1])"
   ]
  },
  {
   "cell_type": "code",
   "execution_count": 23,
   "metadata": {},
   "outputs": [
    {
     "name": "stdout",
     "output_type": "stream",
     "text": [
      "50/50 [==============================] - 5s 91ms/step\n"
     ]
    },
    {
     "data": {
      "text/plain": [
       "[0.15164041593670846, 0.96]"
      ]
     },
     "execution_count": 23,
     "metadata": {},
     "output_type": "execute_result"
    }
   ],
   "source": [
    "final_batch = 50\n",
    "final = get_data(x_test, y_test, final_batch)\n",
    "pre = cnn.predict(final[1])\n",
    "cnn.evaluate(final[1], final[2])"
   ]
  },
  {
   "cell_type": "code",
   "execution_count": 24,
   "metadata": {},
   "outputs": [
    {
     "data": {
      "image/png": "[encoded data removed]",
      "text/plain": [
       "<Figure size 1008x576 with 2 Axes>"
      ]
     },
     "metadata": {
      "needs_background": "light"
     },
     "output_type": "display_data"
    }
   ],
   "source": [
    "import matplotlib.pyplot as plt\n",
    "%matplotlib inline\n",
    "# Model沒有predict_classes\n",
    "# 所以我們要用argmax() 取得最大值的索引\n",
    "# pre.argmax(axis=1)\n",
    "idx = np.nonzero(pre.argmax(axis=1) != final[2].argmax(axis=1))[0]\n",
    "# 預測錯誤的圖片\n",
    "false_img = final[0][idx]\n",
    "# 預測錯誤圖片的正確答案\n",
    "false_answer = final[2].argmax(axis=1)[idx]\n",
    "# 預測錯誤圖片的預測標籤\n",
    "false_pre = pre.argmax(axis=1)[idx]\n",
    "\n",
    "trans = [\"document\", \"graduation\", \"live\", \"noman\"]\n",
    "width = 10\n",
    "height = len(false_img) // width + 1\n",
    "plt.figure(figsize=(14, 8))\n",
    "for i, img in enumerate(false_img):\n",
    "    plt.subplot(height, width, i+1)\n",
    "    t = \"[O]:\" + trans[false_answer[i]] + \"\\n[P]:\" + trans[false_pre[i]]\n",
    "    plt.title(t)\n",
    "    plt.axis(\"off\")\n",
    "    plt.imshow(img)\n"
   ]
  },
  {
   "cell_type": "code",
   "execution_count": 25,
   "metadata": {},
   "outputs": [
    {
     "ename": "IndentationError",
     "evalue": "unexpected indent (<ipython-input-25-788d0cd25b40>, line 5)",
     "traceback": [
      "\u001b[0;36m  File \u001b[0;32m\"<ipython-input-25-788d0cd25b40>\"\u001b[0;36m, line \u001b[0;32m5\u001b[0m\n\u001b[0;31m    pickle.dump(cnn, f)\u001b[0m\n\u001b[0m    ^\u001b[0m\n\u001b[0;31mIndentationError\u001b[0m\u001b[0;31m:\u001b[0m unexpected indent\n"
     ],
     "output_type": "error"
    }
   ],
   "source": [
    "import pickle #pickle模組\n",
    "\n",
    "#儲存Model(注:save資料夾要預先建立，否則會報錯)\n",
    "with open('C:/Users/Big data/Desktop/pic_data/model/cnn.pickle', 'wb') as f:\n",
    "    pickle.dump(cnn, f)"
   ]
  },
  {
   "cell_type": "code",
   "execution_count": 20,
   "metadata": {},
   "outputs": [
    {
     "data": {
      "text/plain": [
       "array([[0.0000000e+00, 4.8899876e-28, 6.0629688e-09, 1.0000000e+00]],\n",
       "      dtype=float32)"
      ]
     },
     "execution_count": 20,
     "metadata": {},
     "output_type": "execute_result"
    }
   ],
   "source": [
    "#輸入圖片目錄路徑\n",
    "TEST = glob.glob(\"C:/Users/Big data/Desktop/pic_data/test/*.jpg\")\n",
    "inimg = load_img(TEST[0], target_size=(224, 224)).convert(\"RGB\")\n",
    "img_np2 = np.array(inimg)\n",
    "img_pre2 = preprocess_input(img_np2)\n",
    "pre2imgs = []\n",
    "pre2imgs.append(img_pre2)\n",
    "pre2imgs = np.array(pre2imgs)\n",
    "pre2imgs\n",
    "\n",
    "pre = cnn.predict(pre2imgs)\n",
    "pre"
   ]
  },
  {
   "cell_type": "code",
   "execution_count": 21,
   "metadata": {},
   "outputs": [],
   "source": [
    "#讀取Model\n",
    "with open('C:/Users/Big data/Desktop/pic_data/model/cnn.pickle', 'rb') as f:\n",
    "    cnn2 = pickle.load(f)\n",
    "    "
   ]
  },
  {
   "cell_type": "code",
   "execution_count": 22,
   "metadata": {},
   "outputs": [
    {
     "data": {
      "text/plain": [
       "array([[0.0000000e+00, 4.8899876e-28, 6.0629688e-09, 1.0000000e+00]],\n",
       "      dtype=float32)"
      ]
     },
     "execution_count": 22,
     "metadata": {},
     "output_type": "execute_result"
    }
   ],
   "source": [
    "Finally = cnn2.predict(pre2imgs)\n",
    "Finally"
   ]
  }
 ],
 "metadata": {
  "kernelspec": {
   "display_name": "Python 3",
   "language": "python",
   "name": "python3"
  },
  "language_info": {
   "codemirror_mode": {
    "name": "ipython",
    "version": 3
   },
   "file_extension": ".py",
   "mimetype": "text/x-python",
   "name": "python",
   "nbconvert_exporter": "python",
   "pygments_lexer": "ipython3",
   "version": "3.7.0"
  }
 },
 "nbformat": 4,
 "nbformat_minor": 2
}
