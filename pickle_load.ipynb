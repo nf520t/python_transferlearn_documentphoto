{
 "cells": [
  {
   "cell_type": "code",
   "execution_count": 7,
   "metadata": {},
   "outputs": [
    {
     "data": {
      "text/plain": [
       "array([[1.0000000e+00, 1.5441933e-30, 3.6870338e-20]], dtype=float32)"
      ]
     },
     "execution_count": 7,
     "metadata": {},
     "output_type": "execute_result"
    }
   ],
   "source": [
    "import glob\n",
    "import pickle #pickle模組\n",
    "import numpy as np\n",
    "from keras.preprocessing.image import load_img\n",
    "from keras.applications.vgg16 import preprocess_input\n",
    "\n",
    "#輸入圖片目錄路徑\n",
    "TEST = glob.glob(\"C:/Users/Big data/Desktop/pic_data/test/*.jpg\")\n",
    "#圖片預處理\n",
    "inimg = load_img(TEST[0], target_size=(224, 224)).convert(\"RGB\")\n",
    "img_np2 = np.array(inimg)\n",
    "img_pre2 = preprocess_input(img_np2)\n",
    "pre2imgs = []\n",
    "pre2imgs.append(img_pre2)\n",
    "pre2imgs = np.array(pre2imgs)\n",
    "pre2imgs\n",
    "\n",
    "#讀取Model\n",
    "with open('C:/Users/Big data/Desktop/pic_data/model/cnn.pickle', 'rb') as f:\n",
    "    cnn2 = pickle.load(f)    \n",
    "Finally = cnn2.predict(pre2imgs)\n",
    "Finally"
   ]
  },
  {
   "cell_type": "code",
   "execution_count": null,
   "metadata": {},
   "outputs": [],
   "source": []
  }
 ],
 "metadata": {
  "kernelspec": {
   "display_name": "Python 3",
   "language": "python",
   "name": "python3"
  },
  "language_info": {
   "codemirror_mode": {
    "name": "ipython",
    "version": 3
   },
   "file_extension": ".py",
   "mimetype": "text/x-python",
   "name": "python",
   "nbconvert_exporter": "python",
   "pygments_lexer": "ipython3",
   "version": "3.7.0"
  }
 },
 "nbformat": 4,
 "nbformat_minor": 2
}
